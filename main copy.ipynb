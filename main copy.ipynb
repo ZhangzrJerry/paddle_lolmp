{
 "cells": [
  {
   "cell_type": "code",
   "execution_count": 7,
   "metadata": {},
   "outputs": [],
   "source": [
    "# 调包和初始化\n",
    "import pandas as pd\n",
    "import numpy as np\n",
    "import matplotlib.pyplot as plt\n",
    "def hanming(a,b):\n",
    "    res = 0\n",
    "    for i,j in zip(a,b):\n",
    "        res += (0 if i==j else 1)\n",
    "    return res"
   ]
  },
  {
   "cell_type": "code",
   "execution_count": 36,
   "metadata": {
    "execution": {
     "iopub.execute_input": "2022-07-29T06:59:12.577610Z",
     "iopub.status.busy": "2022-07-29T06:59:12.577024Z",
     "iopub.status.idle": "2022-07-29T06:59:13.879370Z",
     "shell.execute_reply": "2022-07-29T06:59:13.878211Z",
     "shell.execute_reply.started": "2022-07-29T06:59:12.577564Z"
    },
    "scrolled": true,
    "tags": []
   },
   "outputs": [],
   "source": [
    "# 导入训练数据\n",
    "df_train = pd.read_csv(\"train.csv\")\n",
    "x = np.asarray(df_train.iloc[:,2:]).astype(np.float64)\n",
    "y = np.array(df_train.iloc[:,1])\n",
    "# 导入测试数据\n",
    "df_test = pd.read_csv(\"test.csv\")\n",
    "x_pred = np.array(df_test.iloc[:,1:])\n",
    "# 把训练数据分为训练集和验证集\n",
    "x_train = x[:170000]\n",
    "y_train = y[:170000]\n",
    "x_test = x[170000:]\n",
    "y_test = y[170000:]\n",
    "# 归一化\n",
    "from sklearn.preprocessing import StandardScaler  \n",
    "scaler = StandardScaler()  \n",
    "scaler.fit(x_train)  \n",
    "x_train_scaler = scaler.transform(x_train)  \n",
    "x_test_scaler = scaler.transform(x_test)\n",
    "x_pred_scaler = scaler.transform(x_pred)"
   ]
  },
  {
   "cell_type": "code",
   "execution_count": null,
   "metadata": {},
   "outputs": [],
   "source": [
    "# 随机森林 0.843\n",
    "from sklearn.ensemble import RandomForestClassifier\n",
    "clf = RandomForestClassifier()\n",
    "clf.fit(x_train,y_train)\n",
    "print(clf.score(x_test,y_test))  # 0.843\n",
    "pd.DataFrame({'win':clf.predict(x_pred)}).to_csv('submission_randomforest.csv')"
   ]
  },
  {
   "cell_type": "code",
   "execution_count": null,
   "metadata": {},
   "outputs": [],
   "source": [
    "# 极限随机树 0.8389\n",
    "from sklearn.ensemble import ExtraTreesClassifier\n",
    "clf = ExtraTreesClassifier()\n",
    "clf.fit(x_train,y_train)\n",
    "print(clf.score(x_test,y_test))  # 0.8389\n",
    "pd.DataFrame({'win':clf.predict(x_pred)}).to_csv('submission_extratrees.csv')"
   ]
  },
  {
   "cell_type": "code",
   "execution_count": null,
   "metadata": {},
   "outputs": [],
   "source": [
    "# AdaBoost 0.8277\n",
    "from sklearn.ensemble import AdaBoostClassifier\n",
    "clf = AdaBoostClassifier()\n",
    "clf.fit(x_train,y_train)\n",
    "print(clf.score(x_test,y_test))  # 0.8277\n",
    "pd.DataFrame({'win':clf.predict(x_pred)}).to_csv('submission_adaboost.csv')"
   ]
  },
  {
   "cell_type": "code",
   "execution_count": null,
   "metadata": {},
   "outputs": [],
   "source": [
    "# 梯度树提升 0.8391\n",
    "from sklearn.ensemble import GradientBoostingClassifier\n",
    "clf = GradientBoostingClassifier()\n",
    "clf.fit(x_train,y_train)\n",
    "print(clf.score(x_test,y_test))  # 0.8391\n",
    "pd.DataFrame({'win':clf.predict(x_pred)}).to_csv('submission_gradientboost.csv')"
   ]
  },
  {
   "cell_type": "code",
   "execution_count": null,
   "metadata": {},
   "outputs": [],
   "source": [
    "# 多层感知机 0.8472\n",
    "from sklearn.neural_network import MLPClassifier\n",
    "clf = MLPClassifier(hidden_layer_sizes=(15))\n",
    "clf.fit(x_train_scaler,y_train)\n",
    "print(clf.score(x_test_scaler,y_test))    # 0.8472\n",
    "pd.DataFrame({'win':clf.predict(x_pred_scaler)}).to_csv('submission_mlp.csv')"
   ]
  },
  {
   "cell_type": "code",
   "execution_count": 37,
   "metadata": {},
   "outputs": [],
   "source": [
    "data = []\n",
    "name = ['randomforest','extratrees','gradientboost','adaboost','mlp']\n",
    "for x in name:\n",
    "    data.append([x,pd.read_csv(\"submission/submission_\"+x+\".csv\")['win']])"
   ]
  },
  {
   "cell_type": "code",
   "execution_count": 38,
   "metadata": {},
   "outputs": [
    {
     "name": "stdout",
     "output_type": "stream",
     "text": [
      "randomforest extratrees 1135\n",
      "randomforest gradientboost 1333\n",
      "randomforest adaboost 2132\n",
      "randomforest mlp 1562\n",
      "extratrees gradientboost 1440\n",
      "extratrees adaboost 2157\n",
      "extratrees mlp 1675\n",
      "gradientboost adaboost 1773\n",
      "gradientboost mlp 1649\n",
      "adaboost mlp 2168\n"
     ]
    }
   ],
   "source": [
    "for i in range(len(data)):\n",
    "    for j in range(i+1,len(data)):\n",
    "        print(data[i][0],data[j][0],hanming(data[i][1],data[j][1]))"
   ]
  },
  {
   "cell_type": "code",
   "execution_count": 53,
   "metadata": {},
   "outputs": [],
   "source": [
    "# 分类器投票表决\n",
    "y_pred = []\n",
    "for i in range(len(data[0][1])):\n",
    "    sum = 0\n",
    "    for j in range(len(data)):\n",
    "        sum += data[j][1][i]\n",
    "    y_pred.append(1 if sum >= len(data)/2 else 0)\n",
    "pd.DataFrame({'win':y_pred}).to_csv(\"submission.csv\")"
   ]
  }
 ],
 "metadata": {
  "kernelspec": {
   "display_name": "Python 3.9.1 64-bit",
   "language": "python",
   "name": "python3"
  },
  "language_info": {
   "codemirror_mode": {
    "name": "ipython",
    "version": 3
   },
   "file_extension": ".py",
   "mimetype": "text/x-python",
   "name": "python",
   "nbconvert_exporter": "python",
   "pygments_lexer": "ipython3",
   "version": "3.9.1"
  },
  "vscode": {
   "interpreter": {
    "hash": "538aa17ce8a0584118ce85ff12bec826ccfc3555eae6360211bc5883b796f561"
   }
  }
 },
 "nbformat": 4,
 "nbformat_minor": 4
}
