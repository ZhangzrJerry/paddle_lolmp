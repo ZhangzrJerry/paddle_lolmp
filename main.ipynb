{
 "cells": [
  {
   "cell_type": "code",
   "execution_count": 1,
   "metadata": {
    "execution": {
     "iopub.execute_input": "2022-08-11T06:21:47.794520Z",
     "iopub.status.busy": "2022-08-11T06:21:47.793697Z",
     "iopub.status.idle": "2022-08-11T06:21:48.279577Z",
     "shell.execute_reply": "2022-08-11T06:21:48.278845Z",
     "shell.execute_reply.started": "2022-08-11T06:21:47.794490Z"
    },
    "scrolled": true,
    "tags": []
   },
   "outputs": [],
   "source": [
    "import pandas as pd\n",
    "import numpy as np\n",
    "import paddle\n",
    "# 导入训练数据\n",
    "df_train = pd.read_csv(\"train.csv\")\n",
    "x = np.asarray(df_train.iloc[:,2:]).astype(np.float32)\n",
    "y = np.array(df_train.iloc[:,1]).astype(np.int8)\n",
    "# 导入测试数据\n",
    "df_test = pd.read_csv(\"test.csv\")\n",
    "x_pred = np.array(df_test.iloc[:,1:])\n",
    "# 对特征进行归一化\n",
    "from sklearn.preprocessing import StandardScaler  \n",
    "scaler = StandardScaler()  \n",
    "scaler.fit(x)  \n",
    "x = scaler.transform(x)\n",
    "x_pred = scaler.transform(x_pred)\n",
    "# 将训练数据集和测试数据集按照8:2的比例分开\n",
    "ratio = 0.8\n",
    "offset = int(x.shape[0] * ratio)\n",
    "x_train = x[:offset]\n",
    "y_train = y[:offset]\n",
    "x_test = x[offset:]\n",
    "y_test = y[offset:]"
   ]
  },
  {
   "cell_type": "code",
   "execution_count": 2,
   "metadata": {
    "execution": {
     "iopub.execute_input": "2022-08-11T06:15:13.102588Z",
     "iopub.status.busy": "2022-08-11T06:15:13.101823Z",
     "iopub.status.idle": "2022-08-11T06:15:14.090211Z",
     "shell.execute_reply": "2022-08-11T06:15:14.089233Z",
     "shell.execute_reply.started": "2022-08-11T06:15:13.102560Z"
    },
    "scrolled": true,
    "tags": []
   },
   "outputs": [
    {
     "data": {
      "text/plain": [
       "(array([[-1.0423225 , -0.24851945, -1.0652921 , -1.0532238 , -0.43834025,\n",
       "         -0.19826205, -0.58423096, -0.24698801, -0.09784286, -0.04000573,\n",
       "         -1.188272  , -0.7809258 , -0.6200115 , -0.28191438, -0.5774179 ,\n",
       "         -1.2297674 , -0.8086368 , -0.564268  , -0.61155623, -0.82438904,\n",
       "         -0.10260557, -0.7286519 ,  0.        , -1.2983824 , -1.155188  ,\n",
       "         -1.1353154 , -0.51228553, -0.9952254 , -0.35158026, -0.33337447]],\n",
       "       dtype=float32),\n",
       " array([0], dtype=int64))"
      ]
     },
     "execution_count": 2,
     "metadata": {},
     "output_type": "execute_result"
    }
   ],
   "source": [
    "import os\n",
    "import numpy as np\n",
    "from paddle.io import Dataset\n",
    "\n",
    "class MyDataset(Dataset):\n",
    "    \"\"\"\n",
    "    步骤一：继承 paddle.io.Dataset 类\n",
    "    \"\"\"\n",
    "    def __init__(self, x, y):\n",
    "        \"\"\"\n",
    "        步骤二：实现 __init__ 函数，初始化数据集，将样本和标签映射到列表中\n",
    "        \"\"\"\n",
    "        super(MyDataset, self).__init__()\n",
    "        self.data_list = []\n",
    "        for i,j in zip(x,y):\n",
    "            self.data_list.append([i,j])\n",
    "\n",
    "    def __getitem__(self, index):\n",
    "        \"\"\"\n",
    "        步骤三：实现 __getitem__ 函数，定义指定 index 时如何获取数据，并返回单条数据（样本数据、对应的标签）\n",
    "        \"\"\"\n",
    "        data = self.data_list[index]\n",
    "        feature = np.array(data[:-1]).astype('float32')\n",
    "        label = np.array(data[-1:]).astype('int64')\n",
    "        # 返回特征和对应标签\n",
    "        return feature, label\n",
    "\n",
    "    def __len__(self):\n",
    "        \"\"\"\n",
    "        步骤四：实现 __len__ 函数，返回数据集的样本总数\n",
    "        \"\"\"\n",
    "        return len(self.data_list)\n",
    "\n",
    "train_dataset = MyDataset(x_train,y_train)\n",
    "test_dataset = MyDataset(x_test,y_test)\n",
    "train_dataset[0]"
   ]
  },
  {
   "cell_type": "code",
   "execution_count": 11,
   "metadata": {},
   "outputs": [],
   "source": [
    "# 来自https://www.baidu.com/link?url=hSEYSblNYfUpxy02rFPNyzfM9tGUUYgq2l09k759J-Fi-MjmmTuYPr9t52EHkXDjpZUiRMvEDoAtNpwfLCPFIKXW9G-QxvS6nc2RaXygDha&wd=&eqid=f4215a8e000bfe7e0000000662f6893c\n",
    "class MyNet(paddle.nn.Layer):\n",
    "    def __init__(self):\n",
    "        super(MyNet,self).__init__()\n",
    "        self.fc = paddle.nn.Linear(in_features=21, out_features=512)\n",
    "\n",
    "        self.emb1 = paddle.nn.Linear(in_features=10,out_features=2048)\n",
    "        self.emb2 = paddle.nn.Linear(in_features=2048,out_features=512)\n",
    "\n",
    "        self.out = paddle.nn.Linear(in_features=1024,out_features=2)\n",
    "\n",
    "    def forward(self,data,emb_data):\n",
    "        x = self.fc(data)\n",
    "\n",
    "        emb = self.emb1(emb_data)\n",
    "        emb = self.emb2(emb)\n",
    "\n",
    "        x = paddle.concat([x,emb],axis=-1)\n",
    "\n",
    "        x = self.out(x)\n",
    "        \n",
    "        x = paddle.nn.functional.sigmoid(x)\n",
    "        return x"
   ]
  },
  {
   "cell_type": "code",
   "execution_count": 10,
   "metadata": {},
   "outputs": [],
   "source": [
    "train_dataloader = paddle.io.DataLoader(\n",
    "    train_dataset,\n",
    "    batch_size=1000,\n",
    "    shuffle=True,\n",
    "    drop_last=False)"
   ]
  },
  {
   "cell_type": "code",
   "execution_count": 13,
   "metadata": {},
   "outputs": [
    {
     "ename": "ValueError",
     "evalue": "not enough values to unpack (expected 3, got 2)",
     "output_type": "error",
     "traceback": [
      "\u001b[1;31m---------------------------------------------------------------------------\u001b[0m",
      "\u001b[1;31mValueError\u001b[0m                                Traceback (most recent call last)",
      "\u001b[1;32md:\\项目\\让我们荡起飞桨\\飞桨_英雄联盟\\main.ipynb Cell 5\u001b[0m in \u001b[0;36m<cell line: 8>\u001b[1;34m()\u001b[0m\n\u001b[0;32m      <a href='vscode-notebook-cell:/d%3A/%E9%A1%B9%E7%9B%AE/%E8%AE%A9%E6%88%91%E4%BB%AC%E8%8D%A1%E8%B5%B7%E9%A3%9E%E6%A1%A8/%E9%A3%9E%E6%A1%A8_%E8%8B%B1%E9%9B%84%E8%81%94%E7%9B%9F/main.ipynb#X13sZmlsZQ%3D%3D?line=8'>9</a>\u001b[0m \u001b[39mfor\u001b[39;00m step, data \u001b[39min\u001b[39;00m \u001b[39menumerate\u001b[39m(train_dataloader):\n\u001b[0;32m     <a href='vscode-notebook-cell:/d%3A/%E9%A1%B9%E7%9B%AE/%E8%AE%A9%E6%88%91%E4%BB%AC%E8%8D%A1%E8%B5%B7%E9%A3%9E%E6%A1%A8/%E9%A3%9E%E6%A1%A8_%E8%8B%B1%E9%9B%84%E8%81%94%E7%9B%9F/main.ipynb#X13sZmlsZQ%3D%3D?line=9'>10</a>\u001b[0m     now_step\u001b[39m+\u001b[39m\u001b[39m=\u001b[39m\u001b[39m1\u001b[39m\n\u001b[1;32m---> <a href='vscode-notebook-cell:/d%3A/%E9%A1%B9%E7%9B%AE/%E8%AE%A9%E6%88%91%E4%BB%AC%E8%8D%A1%E8%B5%B7%E9%A3%9E%E6%A1%A8/%E9%A3%9E%E6%A1%A8_%E8%8B%B1%E9%9B%84%E8%81%94%E7%9B%9F/main.ipynb#X13sZmlsZQ%3D%3D?line=11'>12</a>\u001b[0m     data,emb_data, label \u001b[39m=\u001b[39m data\n\u001b[0;32m     <a href='vscode-notebook-cell:/d%3A/%E9%A1%B9%E7%9B%AE/%E8%AE%A9%E6%88%91%E4%BB%AC%E8%8D%A1%E8%B5%B7%E9%A3%9E%E6%A1%A8/%E9%A3%9E%E6%A1%A8_%E8%8B%B1%E9%9B%84%E8%81%94%E7%9B%9F/main.ipynb#X13sZmlsZQ%3D%3D?line=12'>13</a>\u001b[0m     pre \u001b[39m=\u001b[39m model(data,emb_data)\n\u001b[0;32m     <a href='vscode-notebook-cell:/d%3A/%E9%A1%B9%E7%9B%AE/%E8%AE%A9%E6%88%91%E4%BB%AC%E8%8D%A1%E8%B5%B7%E9%A3%9E%E6%A1%A8/%E9%A3%9E%E6%A1%A8_%E8%8B%B1%E9%9B%84%E8%81%94%E7%9B%9F/main.ipynb#X13sZmlsZQ%3D%3D?line=13'>14</a>\u001b[0m     loss \u001b[39m=\u001b[39m paddle\u001b[39m.\u001b[39mnn\u001b[39m.\u001b[39mfunctional\u001b[39m.\u001b[39mcross_entropy(pre,label,weight\u001b[39m=\u001b[39mpaddle\u001b[39m.\u001b[39mto_tensor([\u001b[39m0.2\u001b[39m,\u001b[39m1.0\u001b[39m]),reduction\u001b[39m=\u001b[39m\u001b[39m'\u001b[39m\u001b[39mmean\u001b[39m\u001b[39m'\u001b[39m)\n",
      "\u001b[1;31mValueError\u001b[0m: not enough values to unpack (expected 3, got 2)"
     ]
    }
   ],
   "source": [
    "model = MyNet()\n",
    "\n",
    "max_epoch=10\n",
    "opt = paddle.optimizer.SGD(learning_rate=0.1, parameters=model.parameters())\n",
    "\n",
    "# 训练\n",
    "now_step=0\n",
    "for epoch in range(max_epoch):\n",
    "    for step, data in enumerate(train_dataloader):\n",
    "        now_step+=1\n",
    "\n",
    "        data,emb_data, label = data\n",
    "        pre = model(data,emb_data)\n",
    "        loss = paddle.nn.functional.cross_entropy(pre,label,weight=paddle.to_tensor([0.2,1.0]),reduction='mean')\n",
    "        # loss = paddle.nn.functional.square_error_cost(pre,label.reshape([-1,1]).astype('float32'))\n",
    "        # loss = paddle.mean(loss)\n",
    "        loss.backward()\n",
    "        opt.step()\n",
    "        opt.clear_gradients()\n",
    "        if now_step%1==0:\n",
    "            print(\"epoch: {}, batch: {}, loss is: {}\".format(epoch, step, loss.mean().numpy()))\n",
    "\n",
    "# 保存模型到model.pdparams\n",
    "paddle.save(model.state_dict(), 'model.pdparams')"
   ]
  },
  {
   "cell_type": "code",
   "execution_count": 8,
   "metadata": {
    "scrolled": true,
    "tags": []
   },
   "outputs": [
    {
     "name": "stdout",
     "output_type": "stream",
     "text": [
      "The loss value printed in the log is the current step, and the metric is the average value of previous steps.\n",
      "Epoch 1/1\n"
     ]
    },
    {
     "ename": "ValueError",
     "evalue": "(InvalidArgument) The type of data we are trying to retrieve does not match the type of data currently contained in the container.\n  [Hint: Expected dtype() == paddle::experimental::CppTypeToDataType<T>::Type(), but received dtype():7 != paddle::experimental::CppTypeToDataType<T>::Type():12.] (at C:\\home\\workspace\\Paddle_release\\paddle\\phi\\core\\dense_tensor.cc:137)\n  [operator < elementwise_sub > error]",
     "output_type": "error",
     "traceback": [
      "\u001b[1;31m---------------------------------------------------------------------------\u001b[0m",
      "\u001b[1;31mValueError\u001b[0m                                Traceback (most recent call last)",
      "\u001b[1;32md:\\项目\\让我们荡起飞桨\\飞桨_英雄联盟\\main.ipynb Cell 5\u001b[0m in \u001b[0;36m<cell line: 15>\u001b[1;34m()\u001b[0m\n\u001b[0;32m     <a href='vscode-notebook-cell:/d%3A/%E9%A1%B9%E7%9B%AE/%E8%AE%A9%E6%88%91%E4%BB%AC%E8%8D%A1%E8%B5%B7%E9%A3%9E%E6%A1%A8/%E9%A3%9E%E6%A1%A8_%E8%8B%B1%E9%9B%84%E8%81%94%E7%9B%9F/main.ipynb#W5sZmlsZQ%3D%3D?line=10'>11</a>\u001b[0m model\u001b[39m.\u001b[39mprepare(optimizer\u001b[39m=\u001b[39mpaddle\u001b[39m.\u001b[39moptimizer\u001b[39m.\u001b[39mAdam(learning_rate\u001b[39m=\u001b[39m\u001b[39m0.001\u001b[39m, parameters\u001b[39m=\u001b[39mmodel\u001b[39m.\u001b[39mparameters()), \n\u001b[0;32m     <a href='vscode-notebook-cell:/d%3A/%E9%A1%B9%E7%9B%AE/%E8%AE%A9%E6%88%91%E4%BB%AC%E8%8D%A1%E8%B5%B7%E9%A3%9E%E6%A1%A8/%E9%A3%9E%E6%A1%A8_%E8%8B%B1%E9%9B%84%E8%81%94%E7%9B%9F/main.ipynb#W5sZmlsZQ%3D%3D?line=11'>12</a>\u001b[0m               loss\u001b[39m=\u001b[39mpaddle\u001b[39m.\u001b[39mnn\u001b[39m.\u001b[39mMSELoss(), \n\u001b[0;32m     <a href='vscode-notebook-cell:/d%3A/%E9%A1%B9%E7%9B%AE/%E8%AE%A9%E6%88%91%E4%BB%AC%E8%8D%A1%E8%B5%B7%E9%A3%9E%E6%A1%A8/%E9%A3%9E%E6%A1%A8_%E8%8B%B1%E9%9B%84%E8%81%94%E7%9B%9F/main.ipynb#W5sZmlsZQ%3D%3D?line=12'>13</a>\u001b[0m               metrics\u001b[39m=\u001b[39mpaddle\u001b[39m.\u001b[39mmetric\u001b[39m.\u001b[39mAccuracy())\n\u001b[0;32m     <a href='vscode-notebook-cell:/d%3A/%E9%A1%B9%E7%9B%AE/%E8%AE%A9%E6%88%91%E4%BB%AC%E8%8D%A1%E8%B5%B7%E9%A3%9E%E6%A1%A8/%E9%A3%9E%E6%A1%A8_%E8%8B%B1%E9%9B%84%E8%81%94%E7%9B%9F/main.ipynb#W5sZmlsZQ%3D%3D?line=13'>14</a>\u001b[0m \u001b[39m# 启动模型训练，指定训练数据集，设置训练轮次，设置每次数据集计算的批次大小，设置日志格式\u001b[39;00m\n\u001b[1;32m---> <a href='vscode-notebook-cell:/d%3A/%E9%A1%B9%E7%9B%AE/%E8%AE%A9%E6%88%91%E4%BB%AC%E8%8D%A1%E8%B5%B7%E9%A3%9E%E6%A1%A8/%E9%A3%9E%E6%A1%A8_%E8%8B%B1%E9%9B%84%E8%81%94%E7%9B%9F/main.ipynb#W5sZmlsZQ%3D%3D?line=14'>15</a>\u001b[0m model\u001b[39m.\u001b[39;49mfit(train_dataset, \n\u001b[0;32m     <a href='vscode-notebook-cell:/d%3A/%E9%A1%B9%E7%9B%AE/%E8%AE%A9%E6%88%91%E4%BB%AC%E8%8D%A1%E8%B5%B7%E9%A3%9E%E6%A1%A8/%E9%A3%9E%E6%A1%A8_%E8%8B%B1%E9%9B%84%E8%81%94%E7%9B%9F/main.ipynb#W5sZmlsZQ%3D%3D?line=15'>16</a>\u001b[0m           test_dataset,\n\u001b[0;32m     <a href='vscode-notebook-cell:/d%3A/%E9%A1%B9%E7%9B%AE/%E8%AE%A9%E6%88%91%E4%BB%AC%E8%8D%A1%E8%B5%B7%E9%A3%9E%E6%A1%A8/%E9%A3%9E%E6%A1%A8_%E8%8B%B1%E9%9B%84%E8%81%94%E7%9B%9F/main.ipynb#W5sZmlsZQ%3D%3D?line=16'>17</a>\u001b[0m           epochs\u001b[39m=\u001b[39;49m\u001b[39m1\u001b[39;49m, \n\u001b[0;32m     <a href='vscode-notebook-cell:/d%3A/%E9%A1%B9%E7%9B%AE/%E8%AE%A9%E6%88%91%E4%BB%AC%E8%8D%A1%E8%B5%B7%E9%A3%9E%E6%A1%A8/%E9%A3%9E%E6%A1%A8_%E8%8B%B1%E9%9B%84%E8%81%94%E7%9B%9F/main.ipynb#W5sZmlsZQ%3D%3D?line=17'>18</a>\u001b[0m           batch_size\u001b[39m=\u001b[39;49m\u001b[39m1\u001b[39;49m,\n\u001b[0;32m     <a href='vscode-notebook-cell:/d%3A/%E9%A1%B9%E7%9B%AE/%E8%AE%A9%E6%88%91%E4%BB%AC%E8%8D%A1%E8%B5%B7%E9%A3%9E%E6%A1%A8/%E9%A3%9E%E6%A1%A8_%E8%8B%B1%E9%9B%84%E8%81%94%E7%9B%9F/main.ipynb#W5sZmlsZQ%3D%3D?line=18'>19</a>\u001b[0m           verbose\u001b[39m=\u001b[39;49m\u001b[39m1\u001b[39;49m)\n",
      "File \u001b[1;32mc:\\Users\\Administer\\AppData\\Local\\Programs\\Python\\Python39\\lib\\site-packages\\paddle\\hapi\\model.py:1767\u001b[0m, in \u001b[0;36mModel.fit\u001b[1;34m(self, train_data, eval_data, batch_size, epochs, eval_freq, log_freq, save_dir, save_freq, verbose, drop_last, shuffle, num_workers, callbacks, accumulate_grad_batches, num_iters)\u001b[0m\n\u001b[0;32m   1765\u001b[0m \u001b[39mfor\u001b[39;00m epoch \u001b[39min\u001b[39;00m \u001b[39mrange\u001b[39m(epochs):\n\u001b[0;32m   1766\u001b[0m     cbks\u001b[39m.\u001b[39mon_epoch_begin(epoch)\n\u001b[1;32m-> 1767\u001b[0m     logs \u001b[39m=\u001b[39m \u001b[39mself\u001b[39;49m\u001b[39m.\u001b[39;49m_run_one_epoch(train_loader, cbks, \u001b[39m'\u001b[39;49m\u001b[39mtrain\u001b[39;49m\u001b[39m'\u001b[39;49m)\n\u001b[0;32m   1768\u001b[0m     cbks\u001b[39m.\u001b[39mon_epoch_end(epoch, logs)\n\u001b[0;32m   1770\u001b[0m     \u001b[39mif\u001b[39;00m do_eval \u001b[39mand\u001b[39;00m epoch \u001b[39m%\u001b[39m eval_freq \u001b[39m==\u001b[39m \u001b[39m0\u001b[39m:\n",
      "File \u001b[1;32mc:\\Users\\Administer\\AppData\\Local\\Programs\\Python\\Python39\\lib\\site-packages\\paddle\\hapi\\model.py:2097\u001b[0m, in \u001b[0;36mModel._run_one_epoch\u001b[1;34m(self, data_loader, callbacks, mode, logs)\u001b[0m\n\u001b[0;32m   2093\u001b[0m \u001b[39mif\u001b[39;00m mode \u001b[39m==\u001b[39m \u001b[39m'\u001b[39m\u001b[39mtrain\u001b[39m\u001b[39m'\u001b[39m:\n\u001b[0;32m   2094\u001b[0m     _inputs\u001b[39m.\u001b[39mappend((step \u001b[39m+\u001b[39m \u001b[39m1\u001b[39m) \u001b[39m%\u001b[39m \u001b[39mself\u001b[39m\u001b[39m.\u001b[39m_accumulate \u001b[39m==\u001b[39m \u001b[39m0\u001b[39m \u001b[39mor\u001b[39;00m\n\u001b[0;32m   2095\u001b[0m                    step \u001b[39m+\u001b[39m \u001b[39m1\u001b[39m \u001b[39m==\u001b[39m \u001b[39mlen\u001b[39m(data_loader))\n\u001b[1;32m-> 2097\u001b[0m outs \u001b[39m=\u001b[39m \u001b[39mgetattr\u001b[39;49m(\u001b[39mself\u001b[39;49m, mode \u001b[39m+\u001b[39;49m \u001b[39m'\u001b[39;49m\u001b[39m_batch\u001b[39;49m\u001b[39m'\u001b[39;49m)(\u001b[39m*\u001b[39;49m_inputs)\n\u001b[0;32m   2099\u001b[0m \u001b[39mif\u001b[39;00m \u001b[39mself\u001b[39m\u001b[39m.\u001b[39m_metrics \u001b[39mand\u001b[39;00m \u001b[39mself\u001b[39m\u001b[39m.\u001b[39m_loss:\n\u001b[0;32m   2100\u001b[0m     metrics \u001b[39m=\u001b[39m [[l[\u001b[39m0\u001b[39m] \u001b[39mfor\u001b[39;00m l \u001b[39min\u001b[39;00m outs[\u001b[39m0\u001b[39m]]]\n",
      "File \u001b[1;32mc:\\Users\\Administer\\AppData\\Local\\Programs\\Python\\Python39\\lib\\site-packages\\paddle\\hapi\\model.py:1093\u001b[0m, in \u001b[0;36mModel.train_batch\u001b[1;34m(self, inputs, labels, update)\u001b[0m\n\u001b[0;32m   1045\u001b[0m \u001b[39mdef\u001b[39;00m \u001b[39mtrain_batch\u001b[39m(\u001b[39mself\u001b[39m, inputs, labels\u001b[39m=\u001b[39m\u001b[39mNone\u001b[39;00m, update\u001b[39m=\u001b[39m\u001b[39mTrue\u001b[39;00m):\n\u001b[0;32m   1046\u001b[0m     \u001b[39m\"\"\"\u001b[39;00m\n\u001b[0;32m   1047\u001b[0m \u001b[39m    Run one training step on one batch of data. And using `update` indicates\u001b[39;00m\n\u001b[0;32m   1048\u001b[0m \u001b[39m    whether optimizer update gradients computing by this batch.\u001b[39;00m\n\u001b[1;32m   (...)\u001b[0m\n\u001b[0;32m   1091\u001b[0m \u001b[39m          print(loss)\u001b[39;00m\n\u001b[0;32m   1092\u001b[0m \u001b[39m    \"\"\"\u001b[39;00m\n\u001b[1;32m-> 1093\u001b[0m     loss \u001b[39m=\u001b[39m \u001b[39mself\u001b[39;49m\u001b[39m.\u001b[39;49m_adapter\u001b[39m.\u001b[39;49mtrain_batch(inputs, labels, update)\n\u001b[0;32m   1094\u001b[0m     \u001b[39mif\u001b[39;00m fluid\u001b[39m.\u001b[39m_non_static_mode() \u001b[39mand\u001b[39;00m \u001b[39mself\u001b[39m\u001b[39m.\u001b[39m_input_info \u001b[39mis\u001b[39;00m \u001b[39mNone\u001b[39;00m:\n\u001b[0;32m   1095\u001b[0m         \u001b[39mself\u001b[39m\u001b[39m.\u001b[39m_update_inputs()\n",
      "File \u001b[1;32mc:\\Users\\Administer\\AppData\\Local\\Programs\\Python\\Python39\\lib\\site-packages\\paddle\\hapi\\model.py:730\u001b[0m, in \u001b[0;36mDynamicGraphAdapter.train_batch\u001b[1;34m(self, inputs, labels, update)\u001b[0m\n\u001b[0;32m    726\u001b[0m     \u001b[39melse\u001b[39;00m:\n\u001b[0;32m    727\u001b[0m         outputs \u001b[39m=\u001b[39m \u001b[39mself\u001b[39m\u001b[39m.\u001b[39mmodel\u001b[39m.\u001b[39mnetwork\u001b[39m.\u001b[39mforward(\n\u001b[0;32m    728\u001b[0m             \u001b[39m*\u001b[39m[to_variable(x) \u001b[39mfor\u001b[39;00m x \u001b[39min\u001b[39;00m inputs])\n\u001b[1;32m--> 730\u001b[0m losses \u001b[39m=\u001b[39m \u001b[39mself\u001b[39;49m\u001b[39m.\u001b[39;49mmodel\u001b[39m.\u001b[39;49m_loss(\u001b[39m*\u001b[39;49m(to_list(outputs) \u001b[39m+\u001b[39;49m labels))\n\u001b[0;32m    731\u001b[0m losses \u001b[39m=\u001b[39m to_list(losses)\n\u001b[0;32m    732\u001b[0m final_loss \u001b[39m=\u001b[39m fluid\u001b[39m.\u001b[39mlayers\u001b[39m.\u001b[39msum(losses)\n",
      "File \u001b[1;32mc:\\Users\\Administer\\AppData\\Local\\Programs\\Python\\Python39\\lib\\site-packages\\paddle\\fluid\\dygraph\\layers.py:930\u001b[0m, in \u001b[0;36mLayer.__call__\u001b[1;34m(self, *inputs, **kwargs)\u001b[0m\n\u001b[0;32m    928\u001b[0m     \u001b[39mreturn\u001b[39;00m \u001b[39mself\u001b[39m\u001b[39m.\u001b[39mforward(\u001b[39m*\u001b[39minputs, \u001b[39m*\u001b[39m\u001b[39m*\u001b[39mkwargs)\n\u001b[0;32m    929\u001b[0m \u001b[39melse\u001b[39;00m:\n\u001b[1;32m--> 930\u001b[0m     \u001b[39mreturn\u001b[39;00m \u001b[39mself\u001b[39m\u001b[39m.\u001b[39m_dygraph_call_func(\u001b[39m*\u001b[39minputs, \u001b[39m*\u001b[39m\u001b[39m*\u001b[39mkwargs)\n",
      "File \u001b[1;32mc:\\Users\\Administer\\AppData\\Local\\Programs\\Python\\Python39\\lib\\site-packages\\paddle\\fluid\\dygraph\\layers.py:915\u001b[0m, in \u001b[0;36mLayer._dygraph_call_func\u001b[1;34m(self, *inputs, **kwargs)\u001b[0m\n\u001b[0;32m    913\u001b[0m         outputs \u001b[39m=\u001b[39m \u001b[39mself\u001b[39m\u001b[39m.\u001b[39mforward(\u001b[39m*\u001b[39minputs, \u001b[39m*\u001b[39m\u001b[39m*\u001b[39mkwargs)\n\u001b[0;32m    914\u001b[0m \u001b[39melse\u001b[39;00m:\n\u001b[1;32m--> 915\u001b[0m     outputs \u001b[39m=\u001b[39m \u001b[39mself\u001b[39m\u001b[39m.\u001b[39mforward(\u001b[39m*\u001b[39minputs, \u001b[39m*\u001b[39m\u001b[39m*\u001b[39mkwargs)\n\u001b[0;32m    917\u001b[0m \u001b[39mfor\u001b[39;00m forward_post_hook \u001b[39min\u001b[39;00m \u001b[39mself\u001b[39m\u001b[39m.\u001b[39m_forward_post_hooks\u001b[39m.\u001b[39mvalues():\n\u001b[0;32m    918\u001b[0m     hook_result \u001b[39m=\u001b[39m forward_post_hook(\u001b[39mself\u001b[39m, inputs, outputs)\n",
      "File \u001b[1;32mc:\\Users\\Administer\\AppData\\Local\\Programs\\Python\\Python39\\lib\\site-packages\\paddle\\nn\\layer\\loss.py:604\u001b[0m, in \u001b[0;36mMSELoss.forward\u001b[1;34m(self, input, label)\u001b[0m\n\u001b[0;32m    599\u001b[0m     fluid\u001b[39m.\u001b[39mdata_feeder\u001b[39m.\u001b[39mcheck_variable_and_dtype(\n\u001b[0;32m    600\u001b[0m         \u001b[39minput\u001b[39m, \u001b[39m'\u001b[39m\u001b[39minput\u001b[39m\u001b[39m'\u001b[39m, [\u001b[39m'\u001b[39m\u001b[39mfloat32\u001b[39m\u001b[39m'\u001b[39m, \u001b[39m'\u001b[39m\u001b[39mfloat64\u001b[39m\u001b[39m'\u001b[39m], \u001b[39m'\u001b[39m\u001b[39mMSELoss\u001b[39m\u001b[39m'\u001b[39m)\n\u001b[0;32m    601\u001b[0m     fluid\u001b[39m.\u001b[39mdata_feeder\u001b[39m.\u001b[39mcheck_variable_and_dtype(\n\u001b[0;32m    602\u001b[0m         label, \u001b[39m'\u001b[39m\u001b[39mlabel\u001b[39m\u001b[39m'\u001b[39m, [\u001b[39m'\u001b[39m\u001b[39mfloat32\u001b[39m\u001b[39m'\u001b[39m, \u001b[39m'\u001b[39m\u001b[39mfloat64\u001b[39m\u001b[39m'\u001b[39m], \u001b[39m'\u001b[39m\u001b[39mMSELoss\u001b[39m\u001b[39m'\u001b[39m)\n\u001b[1;32m--> 604\u001b[0m square_out \u001b[39m=\u001b[39m paddle\u001b[39m.\u001b[39msquare(paddle\u001b[39m.\u001b[39;49msubtract(\u001b[39minput\u001b[39;49m, label))\n\u001b[0;32m    605\u001b[0m \u001b[39mif\u001b[39;00m \u001b[39mself\u001b[39m\u001b[39m.\u001b[39mreduction \u001b[39m==\u001b[39m \u001b[39m'\u001b[39m\u001b[39mnone\u001b[39m\u001b[39m'\u001b[39m:\n\u001b[0;32m    606\u001b[0m     \u001b[39mreturn\u001b[39;00m square_out\n",
      "File \u001b[1;32mc:\\Users\\Administer\\AppData\\Local\\Programs\\Python\\Python39\\lib\\site-packages\\paddle\\tensor\\math.py:360\u001b[0m, in \u001b[0;36msubtract\u001b[1;34m(x, y, name)\u001b[0m\n\u001b[0;32m    358\u001b[0m \u001b[39melse\u001b[39;00m:\n\u001b[0;32m    359\u001b[0m     \u001b[39mif\u001b[39;00m _in_legacy_dygraph():\n\u001b[1;32m--> 360\u001b[0m         \u001b[39mreturn\u001b[39;00m _elementwise_op_in_dygraph(\n\u001b[0;32m    361\u001b[0m             x, y, axis\u001b[39m=\u001b[39;49maxis, act\u001b[39m=\u001b[39;49mact, op_name\u001b[39m=\u001b[39;49mop_type)\n\u001b[0;32m    362\u001b[0m     \u001b[39melse\u001b[39;00m:\n\u001b[0;32m    363\u001b[0m         \u001b[39mreturn\u001b[39;00m _elementwise_op(LayerHelper(op_type, \u001b[39m*\u001b[39m\u001b[39m*\u001b[39m\u001b[39mlocals\u001b[39m()))\n",
      "File \u001b[1;32mc:\\Users\\Administer\\AppData\\Local\\Programs\\Python\\Python39\\lib\\site-packages\\decorator.py:232\u001b[0m, in \u001b[0;36mdecorate.<locals>.fun\u001b[1;34m(*args, **kw)\u001b[0m\n\u001b[0;32m    230\u001b[0m \u001b[39mif\u001b[39;00m \u001b[39mnot\u001b[39;00m kwsyntax:\n\u001b[0;32m    231\u001b[0m     args, kw \u001b[39m=\u001b[39m fix(args, kw, sig)\n\u001b[1;32m--> 232\u001b[0m \u001b[39mreturn\u001b[39;00m caller(func, \u001b[39m*\u001b[39m(extras \u001b[39m+\u001b[39m args), \u001b[39m*\u001b[39m\u001b[39m*\u001b[39mkw)\n",
      "File \u001b[1;32mc:\\Users\\Administer\\AppData\\Local\\Programs\\Python\\Python39\\lib\\site-packages\\paddle\\fluid\\wrapped_decorator.py:25\u001b[0m, in \u001b[0;36mwrap_decorator.<locals>.__impl__\u001b[1;34m(func, *args, **kwargs)\u001b[0m\n\u001b[0;32m     22\u001b[0m \u001b[39m@decorator\u001b[39m\u001b[39m.\u001b[39mdecorator\n\u001b[0;32m     23\u001b[0m \u001b[39mdef\u001b[39;00m \u001b[39m__impl__\u001b[39m(func, \u001b[39m*\u001b[39margs, \u001b[39m*\u001b[39m\u001b[39m*\u001b[39mkwargs):\n\u001b[0;32m     24\u001b[0m     wrapped_func \u001b[39m=\u001b[39m decorator_func(func)\n\u001b[1;32m---> 25\u001b[0m     \u001b[39mreturn\u001b[39;00m wrapped_func(\u001b[39m*\u001b[39margs, \u001b[39m*\u001b[39m\u001b[39m*\u001b[39mkwargs)\n",
      "File \u001b[1;32mc:\\Users\\Administer\\AppData\\Local\\Programs\\Python\\Python39\\lib\\site-packages\\paddle\\fluid\\framework.py:434\u001b[0m, in \u001b[0;36m_dygraph_only_.<locals>.__impl__\u001b[1;34m(*args, **kwargs)\u001b[0m\n\u001b[0;32m    431\u001b[0m \u001b[39mdef\u001b[39;00m \u001b[39m__impl__\u001b[39m(\u001b[39m*\u001b[39margs, \u001b[39m*\u001b[39m\u001b[39m*\u001b[39mkwargs):\n\u001b[0;32m    432\u001b[0m     \u001b[39massert\u001b[39;00m _non_static_mode(\n\u001b[0;32m    433\u001b[0m     ), \u001b[39m\"\u001b[39m\u001b[39mWe only support \u001b[39m\u001b[39m'\u001b[39m\u001b[39m%s\u001b[39;00m\u001b[39m()\u001b[39m\u001b[39m'\u001b[39m\u001b[39m in dynamic graph mode, please call \u001b[39m\u001b[39m'\u001b[39m\u001b[39mpaddle.disable_static()\u001b[39m\u001b[39m'\u001b[39m\u001b[39m to enter dynamic graph mode.\u001b[39m\u001b[39m\"\u001b[39m \u001b[39m%\u001b[39m func\u001b[39m.\u001b[39m\u001b[39m__name__\u001b[39m\n\u001b[1;32m--> 434\u001b[0m     \u001b[39mreturn\u001b[39;00m func(\u001b[39m*\u001b[39margs, \u001b[39m*\u001b[39m\u001b[39m*\u001b[39mkwargs)\n",
      "File \u001b[1;32mc:\\Users\\Administer\\AppData\\Local\\Programs\\Python\\Python39\\lib\\site-packages\\paddle\\tensor\\math.py:210\u001b[0m, in \u001b[0;36m_elementwise_op_in_dygraph\u001b[1;34m(x, y, axis, act, use_mkldnn, op_name)\u001b[0m\n\u001b[0;32m    208\u001b[0m \u001b[39mif\u001b[39;00m op_name \u001b[39mnot\u001b[39;00m \u001b[39min\u001b[39;00m OP_NAMEMAPPING\u001b[39m.\u001b[39mkeys():\n\u001b[0;32m    209\u001b[0m     op \u001b[39m=\u001b[39m \u001b[39mgetattr\u001b[39m(_C_ops, op_name)\n\u001b[1;32m--> 210\u001b[0m     out \u001b[39m=\u001b[39m op(x, y, \u001b[39m'\u001b[39;49m\u001b[39maxis\u001b[39;49m\u001b[39m'\u001b[39;49m, axis, \u001b[39m'\u001b[39;49m\u001b[39muse_mkldnn\u001b[39;49m\u001b[39m'\u001b[39;49m, use_mkldnn)\n\u001b[0;32m    211\u001b[0m \u001b[39melse\u001b[39;00m:\n\u001b[0;32m    212\u001b[0m     \u001b[39mif\u001b[39;00m in_dygraph_mode():\n",
      "\u001b[1;31mValueError\u001b[0m: (InvalidArgument) The type of data we are trying to retrieve does not match the type of data currently contained in the container.\n  [Hint: Expected dtype() == paddle::experimental::CppTypeToDataType<T>::Type(), but received dtype():7 != paddle::experimental::CppTypeToDataType<T>::Type():12.] (at C:\\home\\workspace\\Paddle_release\\paddle\\phi\\core\\dense_tensor.cc:137)\n  [operator < elementwise_sub > error]"
     ]
    }
   ],
   "source": [
    "n_input = 30\n",
    "# MLP模型组网搭建\n",
    "from paddle import nn\n",
    "lenet_Sequential = nn.Sequential(\n",
    "    nn.Linear(n_input, 1,)\n",
    ")\n",
    "# paddle.device.set_device('gpu:0')  # 本地显卡MX150没装CUDA\n",
    "# 封装模型为一个 model 实例，便于进行后续的训练、评估和推理\n",
    "model = paddle.Model(lenet_Sequential)\n",
    "# 为模型训练做准备，设置优化器及其学习率，并将网络的参数传入优化器，设置损失函数和精度计算方式\n",
    "model.prepare(optimizer=paddle.optimizer.Adam(learning_rate=0.001, parameters=model.parameters()), \n",
    "              loss=paddle.nn.MSELoss(), \n",
    "              metrics=paddle.metric.Accuracy())\n",
    "# 启动模型训练，指定训练数据集，设置训练轮次，设置每次数据集计算的批次大小，设置日志格式\n",
    "model.fit(train_dataset, \n",
    "          test_dataset,\n",
    "          epochs=1, \n",
    "          batch_size=1,\n",
    "          verbose=1)"
   ]
  },
  {
   "cell_type": "code",
   "execution_count": null,
   "metadata": {
    "execution": {
     "iopub.execute_input": "2022-08-11T06:13:58.661994Z",
     "iopub.status.busy": "2022-08-11T06:13:58.661280Z",
     "iopub.status.idle": "2022-08-11T06:13:58.667996Z",
     "shell.execute_reply": "2022-08-11T06:13:58.667375Z",
     "shell.execute_reply.started": "2022-08-11T06:13:58.661965Z"
    },
    "scrolled": true,
    "tags": []
   },
   "outputs": [],
   "source": []
  },
  {
   "cell_type": "code",
   "execution_count": null,
   "metadata": {
    "scrolled": true
   },
   "outputs": [],
   "source": []
  },
  {
   "cell_type": "code",
   "execution_count": 19,
   "metadata": {
    "execution": {
     "iopub.execute_input": "2022-08-01T09:14:27.803135Z",
     "iopub.status.busy": "2022-08-01T09:14:27.801768Z",
     "iopub.status.idle": "2022-08-01T09:15:31.589010Z",
     "shell.execute_reply": "2022-08-01T09:15:31.587871Z",
     "shell.execute_reply.started": "2022-08-01T09:14:27.803093Z"
    },
    "scrolled": true,
    "tags": []
   },
   "outputs": [
    {
     "name": "stdout",
     "output_type": "stream",
     "text": [
      "0.8472\n"
     ]
    }
   ],
   "source": []
  }
 ],
 "metadata": {
  "kernelspec": {
   "display_name": "Python 3.9.1 64-bit",
   "language": "python",
   "name": "python3"
  },
  "language_info": {
   "codemirror_mode": {
    "name": "ipython",
    "version": 3
   },
   "file_extension": ".py",
   "mimetype": "text/x-python",
   "name": "python",
   "nbconvert_exporter": "python",
   "pygments_lexer": "ipython3",
   "version": "3.9.1"
  },
  "vscode": {
   "interpreter": {
    "hash": "538aa17ce8a0584118ce85ff12bec826ccfc3555eae6360211bc5883b796f561"
   }
  }
 },
 "nbformat": 4,
 "nbformat_minor": 4
}
