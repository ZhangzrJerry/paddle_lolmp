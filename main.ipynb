{
 "cells": [
  {
   "cell_type": "code",
   "execution_count": 1,
   "metadata": {
    "execution": {
     "iopub.execute_input": "2022-08-11T04:49:26.662348Z",
     "iopub.status.busy": "2022-08-11T04:49:26.661587Z",
     "iopub.status.idle": "2022-08-11T04:49:26.666478Z",
     "shell.execute_reply": "2022-08-11T04:49:26.665759Z",
     "shell.execute_reply.started": "2022-08-11T04:49:26.662314Z"
    },
    "scrolled": true,
    "tags": []
   },
   "outputs": [],
   "source": [
    "import pandas as pd\n",
    "import numpy as np\n",
    "import paddle\n",
    "def hanming(a,b):\n",
    "    res = 0\n",
    "    for i,j in zip(a,b):\n",
    "        res += (0 if i==j else 1)\n",
    "    return res"
   ]
  },
  {
   "cell_type": "code",
   "execution_count": 2,
   "metadata": {
    "execution": {
     "iopub.execute_input": "2022-08-11T06:21:47.794520Z",
     "iopub.status.busy": "2022-08-11T06:21:47.793697Z",
     "iopub.status.idle": "2022-08-11T06:21:48.279577Z",
     "shell.execute_reply": "2022-08-11T06:21:48.278845Z",
     "shell.execute_reply.started": "2022-08-11T06:21:47.794490Z"
    },
    "scrolled": true,
    "tags": []
   },
   "outputs": [],
   "source": [
    "# 导入训练数据\n",
    "df_train = pd.read_csv(\"train.csv\")\n",
    "x = np.asarray(df_train.iloc[:,2:]).astype(np.float32)\n",
    "y = np.array(df_train.iloc[:,1]).astype(np.int8)\n",
    "# 导入测试数据\n",
    "df_test = pd.read_csv(\"test.csv\")\n",
    "x_pred = np.array(df_test.iloc[:,1:])\n",
    "# 对特征进行归一化\n",
    "from sklearn.preprocessing import StandardScaler  \n",
    "scaler = StandardScaler()  \n",
    "scaler.fit(x)  \n",
    "x = scaler.transform(x)\n",
    "x_pred = scaler.transform(x_pred)\n",
    "# 将训练数据集和测试数据集按照8:2的比例分开\n",
    "ratio = 0.8\n",
    "offset = int(x.shape[0] * ratio)\n",
    "x_train = x[:offset]\n",
    "y_train = y[:offset]\n",
    "x_test = x[offset:]\n",
    "y_test = y[offset:]"
   ]
  },
  {
   "cell_type": "code",
   "execution_count": 9,
   "metadata": {
    "execution": {
     "iopub.execute_input": "2022-08-11T06:15:13.102588Z",
     "iopub.status.busy": "2022-08-11T06:15:13.101823Z",
     "iopub.status.idle": "2022-08-11T06:15:14.090211Z",
     "shell.execute_reply": "2022-08-11T06:15:14.089233Z",
     "shell.execute_reply.started": "2022-08-11T06:15:13.102560Z"
    },
    "scrolled": true,
    "tags": []
   },
   "outputs": [],
   "source": [
    "import os\n",
    "import numpy as np\n",
    "from paddle.io import Dataset\n",
    "\n",
    "class MyDataset(Dataset):\n",
    "    \"\"\"\n",
    "    步骤一：继承 paddle.io.Dataset 类\n",
    "    \"\"\"\n",
    "    def __init__(self, x, y):\n",
    "        \"\"\"\n",
    "        步骤二：实现 __init__ 函数，初始化数据集，将样本和标签映射到列表中\n",
    "        \"\"\"\n",
    "        super(MyDataset, self).__init__()\n",
    "        self.data_list = []\n",
    "        for i,j in zip(x,y):\n",
    "            self.data_list.append([i,j])\n",
    "\n",
    "    def __getitem__(self, index):\n",
    "        \"\"\"\n",
    "        步骤三：实现 __getitem__ 函数，定义指定 index 时如何获取数据，并返回单条数据（样本数据、对应的标签）\n",
    "        \"\"\"\n",
    "        feature = self.data_list[index][0]\n",
    "        label = self.data_list[index][1]\n",
    "        # 返回图像和对应标签\n",
    "        return feature, label\n",
    "\n",
    "    def __len__(self):\n",
    "        \"\"\"\n",
    "        步骤四：实现 __len__ 函数，返回数据集的样本总数\n",
    "        \"\"\"\n",
    "        return len(self.data_list)\n",
    "\n",
    "train_dataset = MyDataset(x_train,y_train)\n",
    "test_dataset = MyDataset(x_test,y_test)"
   ]
  },
  {
   "cell_type": "code",
   "execution_count": 13,
   "metadata": {
    "scrolled": true,
    "tags": []
   },
   "outputs": [
    {
     "name": "stdout",
     "output_type": "stream",
     "text": [
      "The loss value printed in the log is the current step, and the metric is the average value of previous steps.\n",
      "Epoch 1/1\n",
      "step  10/404 - loss: 18.5758 - acc: 0.0000e+00 - 6ms/step\n",
      "step  20/404 - loss: 22.5854 - acc: 0.0000e+00 - 5ms/step\n",
      "step  30/404 - loss: 23.1856 - acc: 0.0000e+00 - 5ms/step\n",
      "step  40/404 - loss: 18.8695 - acc: 0.0000e+00 - 4ms/step\n",
      "step  50/404 - loss: 24.5653 - acc: 0.0000e+00 - 4ms/step\n"
     ]
    },
    {
     "name": "stderr",
     "output_type": "stream",
     "text": [
      "c:\\Users\\Administer\\AppData\\Local\\Programs\\Python\\Python39\\lib\\site-packages\\paddle\\fluid\\dygraph\\math_op_patch.py:276: UserWarning: The dtype of left and right variables are not the same, left dtype is paddle.int64, but right dtype is paddle.float64, the right dtype will convert to paddle.int64\n",
      "  warnings.warn(\n"
     ]
    },
    {
     "name": "stdout",
     "output_type": "stream",
     "text": [
      "step  60/404 - loss: 24.9710 - acc: 0.0000e+00 - 4ms/step\n",
      "step  70/404 - loss: 32.6687 - acc: 0.0000e+00 - 4ms/step\n",
      "step  80/404 - loss: 18.0986 - acc: 0.0125 - 4ms/step\n",
      "step  90/404 - loss: 28.8937 - acc: 0.0111 - 4ms/step\n",
      "step 100/404 - loss: 16.3842 - acc: 0.0100 - 4ms/step\n",
      "step 110/404 - loss: 9.5603 - acc: 0.0091 - 4ms/step\n",
      "step 120/404 - loss: 28.5860 - acc: 0.0083 - 4ms/step\n",
      "step 130/404 - loss: 23.1954 - acc: 0.0077 - 4ms/step\n",
      "step 140/404 - loss: 26.0842 - acc: 0.0143 - 4ms/step\n",
      "step 150/404 - loss: 24.2726 - acc: 0.0267 - 4ms/step\n",
      "step 160/404 - loss: 15.4828 - acc: 0.0312 - 4ms/step\n",
      "step 170/404 - loss: 38.5351 - acc: 0.0294 - 4ms/step\n",
      "step 180/404 - loss: 22.6023 - acc: 0.0278 - 4ms/step\n",
      "step 190/404 - loss: 20.7754 - acc: 0.0316 - 4ms/step\n",
      "step 200/404 - loss: 12.8832 - acc: 0.0350 - 4ms/step\n",
      "step 210/404 - loss: 22.9332 - acc: 0.0333 - 4ms/step\n",
      "step 220/404 - loss: 24.0873 - acc: 0.0318 - 4ms/step\n",
      "step 230/404 - loss: 22.9985 - acc: 0.0304 - 4ms/step\n",
      "step 240/404 - loss: 46.4894 - acc: 0.0292 - 4ms/step\n",
      "step 250/404 - loss: 24.0846 - acc: 0.0320 - 4ms/step\n",
      "step 260/404 - loss: 17.4666 - acc: 0.0346 - 4ms/step\n",
      "step 270/404 - loss: 20.6918 - acc: 0.0333 - 3ms/step\n",
      "step 280/404 - loss: 35.7408 - acc: 0.0321 - 3ms/step\n",
      "step 290/404 - loss: 19.3936 - acc: 0.0310 - 3ms/step\n",
      "step 300/404 - loss: 31.7316 - acc: 0.0400 - 3ms/step\n",
      "step 310/404 - loss: 43.7340 - acc: 0.0387 - 3ms/step\n",
      "step 320/404 - loss: 34.7945 - acc: 0.0375 - 3ms/step\n",
      "step 330/404 - loss: 48.2262 - acc: 0.0394 - 3ms/step\n",
      "step 340/404 - loss: 31.3191 - acc: 0.0382 - 3ms/step\n",
      "step 350/404 - loss: 23.0334 - acc: 0.0371 - 3ms/step\n",
      "step 360/404 - loss: 14.0553 - acc: 0.0389 - 3ms/step\n",
      "step 370/404 - loss: 24.1897 - acc: 0.0378 - 3ms/step\n",
      "step 380/404 - loss: 13.4329 - acc: 0.0368 - 3ms/step\n",
      "step 390/404 - loss: 23.7553 - acc: 0.0359 - 3ms/step\n",
      "step 400/404 - loss: 18.0154 - acc: 0.0350 - 3ms/step\n",
      "step 404/404 - loss: 22.6199 - acc: 0.0347 - 3ms/step\n"
     ]
    }
   ],
   "source": [
    "n_input = len(x[0])\n",
    "# MLP模型组网搭建\n",
    "from paddle import nn\n",
    "lenet_Sequential = nn.Sequential(\n",
    "    nn.Linear(13, 1,),\n",
    "    nn.Tanh(),\n",
    "    nn.Linear(1, 20),\n",
    "    nn.Tanh(),\n",
    ")\n",
    "# paddle.device.set_device('gpu:0')  # 本地显卡MX150没装CUDA\n",
    "# 封装模型为一个 model 实例，便于进行后续的训练、评估和推理\n",
    "model = paddle.Model(lenet_Sequential)\n",
    "# 为模型训练做准备，设置优化器及其学习率，并将网络的参数传入优化器，设置损失函数和精度计算方式\n",
    "model.prepare(optimizer=paddle.optimizer.Adam(learning_rate=0.001, parameters=model.parameters()), \n",
    "              loss=paddle.nn.L1Loss(), \n",
    "              metrics=paddle.metric.Accuracy())\n",
    "# 启动模型训练，指定训练数据集，设置训练轮次，设置每次数据集计算的批次大小，设置日志格式\n",
    "model.fit(train_dataset, \n",
    "          epochs=1, \n",
    "          batch_size=1,\n",
    "          verbose=2)"
   ]
  },
  {
   "cell_type": "code",
   "execution_count": 11,
   "metadata": {
    "execution": {
     "iopub.execute_input": "2022-08-11T06:13:58.661994Z",
     "iopub.status.busy": "2022-08-11T06:13:58.661280Z",
     "iopub.status.idle": "2022-08-11T06:13:58.667996Z",
     "shell.execute_reply": "2022-08-11T06:13:58.667375Z",
     "shell.execute_reply.started": "2022-08-11T06:13:58.661965Z"
    },
    "scrolled": true,
    "tags": []
   },
   "outputs": [
    {
     "name": "stdout",
     "output_type": "stream",
     "text": [
      "The loss value printed in the log is the current step, and the metric is the average value of previous steps.\n",
      "Epoch 1/5\n",
      "step 51/51 [==============================] - loss: 630.0613 - 5ms/step          \n",
      "Epoch 2/5\n",
      "step 51/51 [==============================] - loss: 416.6157 - 5ms/step          \n",
      "Epoch 3/5\n",
      "step 51/51 [==============================] - loss: 428.6686 - 6ms/step          \n",
      "Epoch 4/5\n",
      "step 51/51 [==============================] - loss: 426.5521 - 4ms/step          \n",
      "Epoch 5/5\n",
      "step 51/51 [==============================] - loss: 468.4595 - 5ms/step          \n"
     ]
    }
   ],
   "source": [
    "import paddle\n",
    "paddle.set_default_dtype(\"float64\")\n",
    "\n",
    "# step1:用高层API定义数据集，无需进行数据处理等，高层API为你一条龙搞定\n",
    "train_dataset = paddle.text.datasets.UCIHousing(mode='train')\n",
    "eval_dataset = paddle.text.datasets.UCIHousing(mode='test')\n",
    "\n",
    "# step2:定义模型\n",
    "class UCIHousing(paddle.nn.Layer):\n",
    "    def __init__(self):\n",
    "        super(UCIHousing, self).__init__()\n",
    "        self.fc = paddle.nn.Linear(13, 1, None)\n",
    "\n",
    "    def forward(self, input):\n",
    "        pred = self.fc(input)\n",
    "        return pred\n",
    "\n",
    "# step3:训练模型\n",
    "model = paddle.Model(UCIHousing())\n",
    "model.prepare(paddle.optimizer.Adam(parameters=model.parameters()),\n",
    "              paddle.nn.MSELoss())\n",
    "model.fit(train_dataset, epochs=5, batch_size=8, verbose=1)\n"
   ]
  },
  {
   "cell_type": "code",
   "execution_count": null,
   "metadata": {
    "scrolled": true
   },
   "outputs": [],
   "source": []
  },
  {
   "cell_type": "code",
   "execution_count": 19,
   "metadata": {
    "execution": {
     "iopub.execute_input": "2022-08-01T09:14:27.803135Z",
     "iopub.status.busy": "2022-08-01T09:14:27.801768Z",
     "iopub.status.idle": "2022-08-01T09:15:31.589010Z",
     "shell.execute_reply": "2022-08-01T09:15:31.587871Z",
     "shell.execute_reply.started": "2022-08-01T09:14:27.803093Z"
    },
    "scrolled": true,
    "tags": []
   },
   "outputs": [
    {
     "name": "stdout",
     "output_type": "stream",
     "text": [
      "0.8472\n"
     ]
    }
   ],
   "source": []
  }
 ],
 "metadata": {
  "kernelspec": {
   "display_name": "Python 3.9.1 64-bit",
   "language": "python",
   "name": "python3"
  },
  "language_info": {
   "codemirror_mode": {
    "name": "ipython",
    "version": 3
   },
   "file_extension": ".py",
   "mimetype": "text/x-python",
   "name": "python",
   "nbconvert_exporter": "python",
   "pygments_lexer": "ipython3",
   "version": "3.9.1"
  },
  "vscode": {
   "interpreter": {
    "hash": "538aa17ce8a0584118ce85ff12bec826ccfc3555eae6360211bc5883b796f561"
   }
  }
 },
 "nbformat": 4,
 "nbformat_minor": 4
}
