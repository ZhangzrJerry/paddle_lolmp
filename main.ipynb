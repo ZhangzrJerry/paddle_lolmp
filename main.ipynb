{
 "cells": [
  {
   "cell_type": "code",
   "execution_count": null,
   "metadata": {
    "execution": {
     "iopub.execute_input": "2022-08-11T06:21:47.794520Z",
     "iopub.status.busy": "2022-08-11T06:21:47.793697Z",
     "iopub.status.idle": "2022-08-11T06:21:48.279577Z",
     "shell.execute_reply": "2022-08-11T06:21:48.278845Z",
     "shell.execute_reply.started": "2022-08-11T06:21:47.794490Z"
    },
    "scrolled": true,
    "tags": []
   },
   "outputs": [],
   "source": [
    "import pandas as pd\n",
    "import numpy as np\n",
    "import matplotlib.pyplot as plt\n",
    "import paddle\n",
    "# 导入训练数据\n",
    "df_train = pd.read_csv(\"train.csv\")\n",
    "df_train = df_train.drop(['id'],axis=1)\n",
    "# 对特征进行归一化\n",
    "from sklearn.preprocessing import StandardScaler  \n",
    "scaler = StandardScaler()  \n",
    "scaler.fit(df_train.iloc[:,1:])  \n",
    "scaler_data = scaler.transform(df_train.iloc[:,1:])\n",
    "# 将训练数据集和测试数据集按照8:2的比例分开\n",
    "ratio = 0.8\n",
    "offset = int(df_train.shape[0] * ratio)\n",
    "train_data = np.c_[scaler_data,df_train.iloc[:,0]][:offset].copy()\n",
    "test_data = np.c_[scaler_data,df_train.iloc[:,0]][offset:].copy()"
   ]
  },
  {
   "cell_type": "code",
   "execution_count": 47,
   "metadata": {},
   "outputs": [],
   "source": [
    "# MLP模型组网搭建\n",
    "n_input = 30\n",
    "from paddle import nn\n",
    "class Classifier(paddle.nn.Layer):\n",
    "    def __init__(self):\n",
    "        super(Classifier, self).__init__()\n",
    "        self.l1 = paddle.nn.Linear(n_input, 1,)\n",
    "\n",
    "    def forward(self, inputs):\n",
    "        pred = self.l1(inputs)\n",
    "        return pred"
   ]
  },
  {
   "cell_type": "code",
   "execution_count": 53,
   "metadata": {},
   "outputs": [
    {
     "name": "stdout",
     "output_type": "stream",
     "text": [
      "start training ... \n"
     ]
    },
    {
     "name": "stderr",
     "output_type": "stream",
     "text": [
      "c:\\Users\\Administer\\AppData\\Local\\Programs\\Python\\Python39\\lib\\site-packages\\paddle\\tensor\\manipulation.py:1769: SyntaxWarning: assertion is always true, perhaps remove parentheses?\n",
      "  assert (repeat_times.ndim == 1,\n",
      "c:\\Users\\Administer\\AppData\\Local\\Programs\\Python\\Python39\\lib\\site-packages\\paddle\\tensor\\manipulation.py:1769: SyntaxWarning: assertion is always true, perhaps remove parentheses?\n",
      "  assert (repeat_times.ndim == 1,\n"
     ]
    },
    {
     "ename": "NotImplementedError",
     "evalue": "(Unimplemented) Invalid dimension to be accessed. Now only supports access to dimension 0 to 9, but received dimension is 20. (at C:\\home\\workspace\\Paddle_release\\paddle/phi/core/ddim.h:53)\n  [operator < reshape2 > error]",
     "output_type": "error",
     "traceback": [
      "\u001b[1;31m---------------------------------------------------------------------------\u001b[0m",
      "\u001b[1;31mNotImplementedError\u001b[0m                       Traceback (most recent call last)",
      "\u001b[1;32md:\\项目\\让我们荡起飞桨\\飞桨_英雄联盟\\main.ipynb Cell 3\u001b[0m in \u001b[0;36m<cell line: 46>\u001b[1;34m()\u001b[0m\n\u001b[0;32m     <a href='vscode-notebook-cell:/d%3A/%E9%A1%B9%E7%9B%AE/%E8%AE%A9%E6%88%91%E4%BB%AC%E8%8D%A1%E8%B5%B7%E9%A3%9E%E6%A1%A8/%E9%A3%9E%E6%A1%A8_%E8%8B%B1%E9%9B%84%E8%81%94%E7%9B%9F/main.ipynb#W2sZmlsZQ%3D%3D?line=42'>43</a>\u001b[0m             train_costs\u001b[39m.\u001b[39mappend(train_cost)\n\u001b[0;32m     <a href='vscode-notebook-cell:/d%3A/%E9%A1%B9%E7%9B%AE/%E8%AE%A9%E6%88%91%E4%BB%AC%E8%8D%A1%E8%B5%B7%E9%A3%9E%E6%A1%A8/%E9%A3%9E%E6%A1%A8_%E8%8B%B1%E9%9B%84%E8%81%94%E7%9B%9F/main.ipynb#W2sZmlsZQ%3D%3D?line=44'>45</a>\u001b[0m model \u001b[39m=\u001b[39m Classifier()\n\u001b[1;32m---> <a href='vscode-notebook-cell:/d%3A/%E9%A1%B9%E7%9B%AE/%E8%AE%A9%E6%88%91%E4%BB%AC%E8%8D%A1%E8%B5%B7%E9%A3%9E%E6%A1%A8/%E9%A3%9E%E6%A1%A8_%E8%8B%B1%E9%9B%84%E8%81%94%E7%9B%9F/main.ipynb#W2sZmlsZQ%3D%3D?line=45'>46</a>\u001b[0m train(model)\n",
      "\u001b[1;32md:\\项目\\让我们荡起飞桨\\飞桨_英雄联盟\\main.ipynb Cell 3\u001b[0m in \u001b[0;36mtrain\u001b[1;34m(model)\u001b[0m\n\u001b[0;32m     <a href='vscode-notebook-cell:/d%3A/%E9%A1%B9%E7%9B%AE/%E8%AE%A9%E6%88%91%E4%BB%AC%E8%8D%A1%E8%B5%B7%E9%A3%9E%E6%A1%A8/%E9%A3%9E%E6%A1%A8_%E8%8B%B1%E9%9B%84%E8%81%94%E7%9B%9F/main.ipynb#W2sZmlsZQ%3D%3D?line=24'>25</a>\u001b[0m \u001b[39m# 前向计算\u001b[39;00m\n\u001b[0;32m     <a href='vscode-notebook-cell:/d%3A/%E9%A1%B9%E7%9B%AE/%E8%AE%A9%E6%88%91%E4%BB%AC%E8%8D%A1%E8%B5%B7%E9%A3%9E%E6%A1%A8/%E9%A3%9E%E6%A1%A8_%E8%8B%B1%E9%9B%84%E8%81%94%E7%9B%9F/main.ipynb#W2sZmlsZQ%3D%3D?line=25'>26</a>\u001b[0m y_pred \u001b[39m=\u001b[39m model(features)\n\u001b[1;32m---> <a href='vscode-notebook-cell:/d%3A/%E9%A1%B9%E7%9B%AE/%E8%AE%A9%E6%88%91%E4%BB%AC%E8%8D%A1%E8%B5%B7%E9%A3%9E%E6%A1%A8/%E9%A3%9E%E6%A1%A8_%E8%8B%B1%E9%9B%84%E8%81%94%E7%9B%9F/main.ipynb#W2sZmlsZQ%3D%3D?line=26'>27</a>\u001b[0m y_pred \u001b[39m=\u001b[39m paddle\u001b[39m.\u001b[39;49mreshape(y_pred,shape\u001b[39m=\u001b[39;49mlabels)\n\u001b[0;32m     <a href='vscode-notebook-cell:/d%3A/%E9%A1%B9%E7%9B%AE/%E8%AE%A9%E6%88%91%E4%BB%AC%E8%8D%A1%E8%B5%B7%E9%A3%9E%E6%A1%A8/%E9%A3%9E%E6%A1%A8_%E8%8B%B1%E9%9B%84%E8%81%94%E7%9B%9F/main.ipynb#W2sZmlsZQ%3D%3D?line=27'>28</a>\u001b[0m \u001b[39mprint\u001b[39m(y_pred,labels)\n\u001b[0;32m     <a href='vscode-notebook-cell:/d%3A/%E9%A1%B9%E7%9B%AE/%E8%AE%A9%E6%88%91%E4%BB%AC%E8%8D%A1%E8%B5%B7%E9%A3%9E%E6%A1%A8/%E9%A3%9E%E6%A1%A8_%E8%8B%B1%E9%9B%84%E8%81%94%E7%9B%9F/main.ipynb#W2sZmlsZQ%3D%3D?line=28'>29</a>\u001b[0m cost \u001b[39m=\u001b[39m F\u001b[39m.\u001b[39mbinary_cross_entropy_with_logits(y_pred, label\u001b[39m=\u001b[39mlabels)\n",
      "File \u001b[1;32mc:\\Users\\Administer\\AppData\\Local\\Programs\\Python\\Python39\\lib\\site-packages\\paddle\\tensor\\manipulation.py:2139\u001b[0m, in \u001b[0;36mreshape\u001b[1;34m(x, shape, name)\u001b[0m\n\u001b[0;32m   2063\u001b[0m \u001b[39mdef\u001b[39;00m \u001b[39mreshape\u001b[39m(x, shape, name\u001b[39m=\u001b[39m\u001b[39mNone\u001b[39;00m):\n\u001b[0;32m   2064\u001b[0m     \u001b[39m\"\"\"\u001b[39;00m\n\u001b[0;32m   2065\u001b[0m \u001b[39m    This operator changes the shape of ``x`` without changing its data.\u001b[39;00m\n\u001b[0;32m   2066\u001b[0m \n\u001b[1;32m   (...)\u001b[0m\n\u001b[0;32m   2137\u001b[0m \n\u001b[0;32m   2138\u001b[0m \u001b[39m    \"\"\"\u001b[39;00m\n\u001b[1;32m-> 2139\u001b[0m     \u001b[39mreturn\u001b[39;00m paddle\u001b[39m.\u001b[39;49mfluid\u001b[39m.\u001b[39;49mlayers\u001b[39m.\u001b[39;49mreshape(x\u001b[39m=\u001b[39;49mx, shape\u001b[39m=\u001b[39;49mshape, name\u001b[39m=\u001b[39;49mname)\n",
      "File \u001b[1;32mc:\\Users\\Administer\\AppData\\Local\\Programs\\Python\\Python39\\lib\\site-packages\\paddle\\fluid\\layers\\nn.py:6376\u001b[0m, in \u001b[0;36mreshape\u001b[1;34m(x, shape, actual_shape, act, inplace, name)\u001b[0m\n\u001b[0;32m   6374\u001b[0m \u001b[39melif\u001b[39;00m \u001b[39misinstance\u001b[39m(shape, tmp_tensor_type):\n\u001b[0;32m   6375\u001b[0m     shape\u001b[39m.\u001b[39mstop_gradient \u001b[39m=\u001b[39m \u001b[39mTrue\u001b[39;00m\n\u001b[1;32m-> 6376\u001b[0m     out, _ \u001b[39m=\u001b[39m _C_ops\u001b[39m.\u001b[39;49mreshape2(x, shape)\n\u001b[0;32m   6377\u001b[0m \u001b[39melse\u001b[39;00m:\n\u001b[0;32m   6378\u001b[0m     \u001b[39mraise\u001b[39;00m \u001b[39mValueError\u001b[39;00m(\n\u001b[0;32m   6379\u001b[0m         \u001b[39m\"\u001b[39m\u001b[39mshape must be an instance of `list`, `tuple` or `Variable`,\u001b[39m\u001b[39m\"\u001b[39m\n\u001b[0;32m   6380\u001b[0m         \u001b[39m\"\u001b[39m\u001b[39m got \u001b[39m\u001b[39m'\u001b[39m\u001b[39m{}\u001b[39;00m\u001b[39m.\u001b[39m\u001b[39m'\u001b[39m\u001b[39m\"\u001b[39m\u001b[39m.\u001b[39mformat(\u001b[39mtype\u001b[39m(shape)))\n",
      "\u001b[1;31mNotImplementedError\u001b[0m: (Unimplemented) Invalid dimension to be accessed. Now only supports access to dimension 0 to 9, but received dimension is 20. (at C:\\home\\workspace\\Paddle_release\\paddle/phi/core/ddim.h:53)\n  [operator < reshape2 > error]"
     ]
    }
   ],
   "source": [
    "import paddle.nn.functional as F \n",
    "y_preds = []\n",
    "train_nums = []\n",
    "train_costs = []\n",
    "labels_list = []\n",
    "BATCH_SIZE = 20\n",
    "\n",
    "def train(model):\n",
    "    print('start training ... ')\n",
    "    # 开启模型训练模式\n",
    "    model.train()\n",
    "    EPOCH_NUM = 5\n",
    "    train_num = 0\n",
    "    optimizer = paddle.optimizer.SGD(learning_rate=0.001, parameters=model.parameters())\n",
    "    for epoch_id in range(EPOCH_NUM):\n",
    "        # 在每轮迭代开始之前，将训练数据的顺序随机的打乱\n",
    "        np.random.shuffle(train_data)\n",
    "        # 将训练数据进行拆分，每个batch包含20条数据\n",
    "        mini_batches = [train_data[k: k+BATCH_SIZE] for k in range(0, len(train_data), BATCH_SIZE)]\n",
    "        for batch_id, data in enumerate(mini_batches):\n",
    "            features_np = np.array(data[:, 1:], np.float32)\n",
    "            labels_np = np.array(data[:, 0], np.float32)\n",
    "            features = paddle.to_tensor(features_np)\n",
    "            labels = paddle.to_tensor(labels_np)\n",
    "            # 前向计算\n",
    "            y_pred = model(features)\n",
    "            y_pred = paddle.reshape(y_pred,shape=labels)\n",
    "            print(y_pred,labels)\n",
    "            cost = F.binary_cross_entropy_with_logits(y_pred, label=labels)\n",
    "            train_cost = cost.numpy()[0]\n",
    "            # 反向传播\n",
    "            cost.backward()\n",
    "            # 最小化loss，更新参数\n",
    "            optimizer.step()\n",
    "            # 清除梯度\n",
    "            optimizer.clear_grad()\n",
    "            \n",
    "            if batch_id%30 == 0 and epoch_id%50 == 0:\n",
    "                print(\"Pass:%d,Cost:%0.5f\"%(epoch_id, train_cost))\n",
    "\n",
    "            train_num = train_num + BATCH_SIZE\n",
    "            train_nums.append(train_num)\n",
    "            train_costs.append(train_cost)\n",
    "        \n",
    "model = Classifier()\n",
    "train(model)"
   ]
  },
  {
   "cell_type": "code",
   "execution_count": 15,
   "metadata": {},
   "outputs": [
    {
     "data": {
      "image/png": "[encoded data removed]",
      "text/plain": [
       "<Figure size 432x288 with 1 Axes>"
      ]
     },
     "metadata": {
      "needs_background": "light"
     },
     "output_type": "display_data"
    }
   ],
   "source": [
    "def draw_train_process(iters, train_costs):\n",
    "    plt.title(\"training cost\", fontsize=24)\n",
    "    plt.xlabel(\"iter\", fontsize=14)\n",
    "    plt.ylabel(\"cost\", fontsize=14)\n",
    "    plt.plot(iters, train_costs, color='red', label='training cost')\n",
    "    plt.show()\n",
    "\n",
    "\n",
    "import matplotlib\n",
    "matplotlib.use('TkAgg')\n",
    "%matplotlib inline\n",
    "draw_train_process(train_nums, train_costs)"
   ]
  },
  {
   "cell_type": "code",
   "execution_count": 34,
   "metadata": {
    "execution": {
     "iopub.execute_input": "2022-08-11T06:13:58.661994Z",
     "iopub.status.busy": "2022-08-11T06:13:58.661280Z",
     "iopub.status.idle": "2022-08-11T06:13:58.667996Z",
     "shell.execute_reply": "2022-08-11T06:13:58.667375Z",
     "shell.execute_reply.started": "2022-08-11T06:13:58.661965Z"
    },
    "scrolled": true,
    "tags": []
   },
   "outputs": [
    {
     "ename": "ValueError",
     "evalue": "(InvalidArgument) Input(Y) has error dim.Y'dims[0] must be equal to 31But received Y'dims[0] is 30\n  [Hint: Expected y_dims[y_ndim - 2] == K, but received y_dims[y_ndim - 2]:30 != K:31.] (at C:\\home\\workspace\\Paddle_release\\paddle/phi/kernels/impl/matmul_kernel_impl.h:315)\n  [operator < matmul_v2 > error]",
     "output_type": "error",
     "traceback": [
      "\u001b[1;31m---------------------------------------------------------------------------\u001b[0m",
      "\u001b[1;31mValueError\u001b[0m                                Traceback (most recent call last)",
      "\u001b[1;32md:\\项目\\让我们荡起飞桨\\飞桨_英雄联盟\\main.ipynb Cell 5\u001b[0m in \u001b[0;36m<cell line: 9>\u001b[1;34m()\u001b[0m\n\u001b[0;32m      <a href='vscode-notebook-cell:/d%3A/%E9%A1%B9%E7%9B%AE/%E8%AE%A9%E6%88%91%E4%BB%AC%E8%8D%A1%E8%B5%B7%E9%A3%9E%E6%A1%A8/%E9%A3%9E%E6%A1%A8_%E8%8B%B1%E9%9B%84%E8%81%94%E7%9B%9F/main.ipynb#X12sZmlsZQ%3D%3D?line=6'>7</a>\u001b[0m infer_features \u001b[39m=\u001b[39m paddle\u001b[39m.\u001b[39mto_tensor(infer_features_np)\n\u001b[0;32m      <a href='vscode-notebook-cell:/d%3A/%E9%A1%B9%E7%9B%AE/%E8%AE%A9%E6%88%91%E4%BB%AC%E8%8D%A1%E8%B5%B7%E9%A3%9E%E6%A1%A8/%E9%A3%9E%E6%A1%A8_%E8%8B%B1%E9%9B%84%E8%81%94%E7%9B%9F/main.ipynb#X12sZmlsZQ%3D%3D?line=7'>8</a>\u001b[0m infer_labels \u001b[39m=\u001b[39m paddle\u001b[39m.\u001b[39mto_tensor(infer_labels_np)\n\u001b[1;32m----> <a href='vscode-notebook-cell:/d%3A/%E9%A1%B9%E7%9B%AE/%E8%AE%A9%E6%88%91%E4%BB%AC%E8%8D%A1%E8%B5%B7%E9%A3%9E%E6%A1%A8/%E9%A3%9E%E6%A1%A8_%E8%8B%B1%E9%9B%84%E8%81%94%E7%9B%9F/main.ipynb#X12sZmlsZQ%3D%3D?line=8'>9</a>\u001b[0m fetch_list \u001b[39m=\u001b[39m model\u001b[39m.\u001b[39;49mforward(infer_features)\n\u001b[0;32m     <a href='vscode-notebook-cell:/d%3A/%E9%A1%B9%E7%9B%AE/%E8%AE%A9%E6%88%91%E4%BB%AC%E8%8D%A1%E8%B5%B7%E9%A3%9E%E6%A1%A8/%E9%A3%9E%E6%A1%A8_%E8%8B%B1%E9%9B%84%E8%81%94%E7%9B%9F/main.ipynb#X12sZmlsZQ%3D%3D?line=10'>11</a>\u001b[0m sum_cost \u001b[39m=\u001b[39m \u001b[39m0\u001b[39m\n\u001b[0;32m     <a href='vscode-notebook-cell:/d%3A/%E9%A1%B9%E7%9B%AE/%E8%AE%A9%E6%88%91%E4%BB%AC%E8%8D%A1%E8%B5%B7%E9%A3%9E%E6%A1%A8/%E9%A3%9E%E6%A1%A8_%E8%8B%B1%E9%9B%84%E8%81%94%E7%9B%9F/main.ipynb#X12sZmlsZQ%3D%3D?line=12'>13</a>\u001b[0m \u001b[39mfor\u001b[39;00m i \u001b[39min\u001b[39;00m \u001b[39mrange\u001b[39m(INFER_BATCH_SIZE):\n",
      "\u001b[1;32md:\\项目\\让我们荡起飞桨\\飞桨_英雄联盟\\main.ipynb Cell 5\u001b[0m in \u001b[0;36mClassifier.forward\u001b[1;34m(self, inputs)\u001b[0m\n\u001b[0;32m      <a href='vscode-notebook-cell:/d%3A/%E9%A1%B9%E7%9B%AE/%E8%AE%A9%E6%88%91%E4%BB%AC%E8%8D%A1%E8%B5%B7%E9%A3%9E%E6%A1%A8/%E9%A3%9E%E6%A1%A8_%E8%8B%B1%E9%9B%84%E8%81%94%E7%9B%9F/main.ipynb#X12sZmlsZQ%3D%3D?line=8'>9</a>\u001b[0m \u001b[39mdef\u001b[39;00m \u001b[39mforward\u001b[39m(\u001b[39mself\u001b[39m, inputs):\n\u001b[1;32m---> <a href='vscode-notebook-cell:/d%3A/%E9%A1%B9%E7%9B%AE/%E8%AE%A9%E6%88%91%E4%BB%AC%E8%8D%A1%E8%B5%B7%E9%A3%9E%E6%A1%A8/%E9%A3%9E%E6%A1%A8_%E8%8B%B1%E9%9B%84%E8%81%94%E7%9B%9F/main.ipynb#X12sZmlsZQ%3D%3D?line=9'>10</a>\u001b[0m     pred \u001b[39m=\u001b[39m \u001b[39mself\u001b[39;49m\u001b[39m.\u001b[39;49ml1(inputs)\n\u001b[0;32m     <a href='vscode-notebook-cell:/d%3A/%E9%A1%B9%E7%9B%AE/%E8%AE%A9%E6%88%91%E4%BB%AC%E8%8D%A1%E8%B5%B7%E9%A3%9E%E6%A1%A8/%E9%A3%9E%E6%A1%A8_%E8%8B%B1%E9%9B%84%E8%81%94%E7%9B%9F/main.ipynb#X12sZmlsZQ%3D%3D?line=10'>11</a>\u001b[0m     \u001b[39mreturn\u001b[39;00m pred\n",
      "File \u001b[1;32mc:\\Users\\Administer\\AppData\\Local\\Programs\\Python\\Python39\\lib\\site-packages\\paddle\\fluid\\dygraph\\layers.py:930\u001b[0m, in \u001b[0;36mLayer.__call__\u001b[1;34m(self, *inputs, **kwargs)\u001b[0m\n\u001b[0;32m    928\u001b[0m     \u001b[39mreturn\u001b[39;00m \u001b[39mself\u001b[39m\u001b[39m.\u001b[39mforward(\u001b[39m*\u001b[39minputs, \u001b[39m*\u001b[39m\u001b[39m*\u001b[39mkwargs)\n\u001b[0;32m    929\u001b[0m \u001b[39melse\u001b[39;00m:\n\u001b[1;32m--> 930\u001b[0m     \u001b[39mreturn\u001b[39;00m \u001b[39mself\u001b[39m\u001b[39m.\u001b[39m_dygraph_call_func(\u001b[39m*\u001b[39minputs, \u001b[39m*\u001b[39m\u001b[39m*\u001b[39mkwargs)\n",
      "File \u001b[1;32mc:\\Users\\Administer\\AppData\\Local\\Programs\\Python\\Python39\\lib\\site-packages\\paddle\\fluid\\dygraph\\layers.py:915\u001b[0m, in \u001b[0;36mLayer._dygraph_call_func\u001b[1;34m(self, *inputs, **kwargs)\u001b[0m\n\u001b[0;32m    913\u001b[0m         outputs \u001b[39m=\u001b[39m \u001b[39mself\u001b[39m\u001b[39m.\u001b[39mforward(\u001b[39m*\u001b[39minputs, \u001b[39m*\u001b[39m\u001b[39m*\u001b[39mkwargs)\n\u001b[0;32m    914\u001b[0m \u001b[39melse\u001b[39;00m:\n\u001b[1;32m--> 915\u001b[0m     outputs \u001b[39m=\u001b[39m \u001b[39mself\u001b[39m\u001b[39m.\u001b[39mforward(\u001b[39m*\u001b[39minputs, \u001b[39m*\u001b[39m\u001b[39m*\u001b[39mkwargs)\n\u001b[0;32m    917\u001b[0m \u001b[39mfor\u001b[39;00m forward_post_hook \u001b[39min\u001b[39;00m \u001b[39mself\u001b[39m\u001b[39m.\u001b[39m_forward_post_hooks\u001b[39m.\u001b[39mvalues():\n\u001b[0;32m    918\u001b[0m     hook_result \u001b[39m=\u001b[39m forward_post_hook(\u001b[39mself\u001b[39m, inputs, outputs)\n",
      "File \u001b[1;32mc:\\Users\\Administer\\AppData\\Local\\Programs\\Python\\Python39\\lib\\site-packages\\paddle\\nn\\layer\\common.py:171\u001b[0m, in \u001b[0;36mLinear.forward\u001b[1;34m(self, input)\u001b[0m\n\u001b[0;32m    170\u001b[0m \u001b[39mdef\u001b[39;00m \u001b[39mforward\u001b[39m(\u001b[39mself\u001b[39m, \u001b[39minput\u001b[39m):\n\u001b[1;32m--> 171\u001b[0m     out \u001b[39m=\u001b[39m F\u001b[39m.\u001b[39;49mlinear(\n\u001b[0;32m    172\u001b[0m         x\u001b[39m=\u001b[39;49m\u001b[39minput\u001b[39;49m, weight\u001b[39m=\u001b[39;49m\u001b[39mself\u001b[39;49m\u001b[39m.\u001b[39;49mweight, bias\u001b[39m=\u001b[39;49m\u001b[39mself\u001b[39;49m\u001b[39m.\u001b[39;49mbias, name\u001b[39m=\u001b[39;49m\u001b[39mself\u001b[39;49m\u001b[39m.\u001b[39;49mname)\n\u001b[0;32m    173\u001b[0m     \u001b[39mreturn\u001b[39;00m out\n",
      "File \u001b[1;32mc:\\Users\\Administer\\AppData\\Local\\Programs\\Python\\Python39\\lib\\site-packages\\paddle\\nn\\functional\\common.py:1541\u001b[0m, in \u001b[0;36mlinear\u001b[1;34m(x, weight, bias, name)\u001b[0m\n\u001b[0;32m   1539\u001b[0m \u001b[39melse\u001b[39;00m:\n\u001b[0;32m   1540\u001b[0m     \u001b[39mif\u001b[39;00m _in_legacy_dygraph():\n\u001b[1;32m-> 1541\u001b[0m         pre_bias \u001b[39m=\u001b[39m _C_ops\u001b[39m.\u001b[39;49mmatmul_v2(x, weight, \u001b[39m'\u001b[39;49m\u001b[39mtrans_x\u001b[39;49m\u001b[39m'\u001b[39;49m, \u001b[39mFalse\u001b[39;49;00m, \u001b[39m'\u001b[39;49m\u001b[39mtrans_y\u001b[39;49m\u001b[39m'\u001b[39;49m,\n\u001b[0;32m   1542\u001b[0m                                     \u001b[39mFalse\u001b[39;49;00m)\n\u001b[0;32m   1544\u001b[0m         \u001b[39mif\u001b[39;00m bias \u001b[39mis\u001b[39;00m \u001b[39mNone\u001b[39;00m:\n\u001b[0;32m   1545\u001b[0m             \u001b[39mreturn\u001b[39;00m pre_bias\n",
      "\u001b[1;31mValueError\u001b[0m: (InvalidArgument) Input(Y) has error dim.Y'dims[0] must be equal to 31But received Y'dims[0] is 30\n  [Hint: Expected y_dims[y_ndim - 2] == K, but received y_dims[y_ndim - 2]:30 != K:31.] (at C:\\home\\workspace\\Paddle_release\\paddle/phi/kernels/impl/matmul_kernel_impl.h:315)\n  [operator < matmul_v2 > error]"
     ]
    }
   ],
   "source": [
    "# 获取预测数据\n",
    "INFER_BATCH_SIZE = 100\n",
    "\n",
    "infer_features_np = np.array(test_data[:,1:]).astype(\"float32\")\n",
    "infer_labels_np = np.array(test_data[:,0]).astype(\"float32\")\n",
    "\n",
    "infer_features = paddle.to_tensor(infer_features_np)\n",
    "infer_labels = paddle.to_tensor(infer_labels_np)\n",
    "fetch_list = model.forward(infer_features)\n",
    "\n",
    "sum_cost = 0\n",
    "\n",
    "for i in range(INFER_BATCH_SIZE):\n",
    "    infer_result = fetch_list[i][0]\n",
    "    ground_truth = infer_labels[i]\n",
    "    if i % 10 == 0:\n",
    "        print(\"No.%d: infer result is %.2f,ground truth is %.2f\" % (i, infer_result, ground_truth))\n",
    "    cost = paddle.pow(infer_result - ground_truth, 2)\n",
    "    sum_cost += cost\n",
    "mean_loss = sum_cost / INFER_BATCH_SIZE\n",
    "print(\"Mean loss is:\", mean_loss.numpy())"
   ]
  },
  {
   "cell_type": "code",
   "execution_count": 21,
   "metadata": {
    "scrolled": true
   },
   "outputs": [
    {
     "data": {
      "text/plain": [
       "(144000, 32)"
      ]
     },
     "execution_count": 21,
     "metadata": {},
     "output_type": "execute_result"
    }
   ],
   "source": [
    "np.shape(train_data)"
   ]
  },
  {
   "cell_type": "code",
   "execution_count": 30,
   "metadata": {
    "execution": {
     "iopub.execute_input": "2022-08-01T09:14:27.803135Z",
     "iopub.status.busy": "2022-08-01T09:14:27.801768Z",
     "iopub.status.idle": "2022-08-01T09:15:31.589010Z",
     "shell.execute_reply": "2022-08-01T09:15:31.587871Z",
     "shell.execute_reply.started": "2022-08-01T09:14:27.803093Z"
    },
    "scrolled": true,
    "tags": []
   },
   "outputs": [
    {
     "data": {
      "text/plain": [
       "(36000, 31)"
      ]
     },
     "execution_count": 30,
     "metadata": {},
     "output_type": "execute_result"
    }
   ],
   "source": [
    "np.shape(infer_features_np)"
   ]
  }
 ],
 "metadata": {
  "kernelspec": {
   "display_name": "Python 3.9.1 64-bit",
   "language": "python",
   "name": "python3"
  },
  "language_info": {
   "codemirror_mode": {
    "name": "ipython",
    "version": 3
   },
   "file_extension": ".py",
   "mimetype": "text/x-python",
   "name": "python",
   "nbconvert_exporter": "python",
   "pygments_lexer": "ipython3",
   "version": "3.9.1"
  },
  "vscode": {
   "interpreter": {
    "hash": "538aa17ce8a0584118ce85ff12bec826ccfc3555eae6360211bc5883b796f561"
   }
  }
 },
 "nbformat": 4,
 "nbformat_minor": 4
}
