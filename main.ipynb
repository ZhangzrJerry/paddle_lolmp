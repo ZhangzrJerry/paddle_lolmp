{
 "cells": [
  {
   "cell_type": "code",
   "execution_count": 1,
   "metadata": {
    "execution": {
     "iopub.execute_input": "2022-08-11T04:49:26.662348Z",
     "iopub.status.busy": "2022-08-11T04:49:26.661587Z",
     "iopub.status.idle": "2022-08-11T04:49:26.666478Z",
     "shell.execute_reply": "2022-08-11T04:49:26.665759Z",
     "shell.execute_reply.started": "2022-08-11T04:49:26.662314Z"
    },
    "scrolled": true,
    "tags": []
   },
   "outputs": [],
   "source": [
    "import pandas as pd\n",
    "import numpy as np\n",
    "import paddle\n",
    "def hanming(a,b):\n",
    "    res = 0\n",
    "    for i,j in zip(a,b):\n",
    "        res += (0 if i==j else 1)\n",
    "    return res"
   ]
  },
  {
   "cell_type": "code",
   "execution_count": 2,
   "metadata": {
    "execution": {
     "iopub.execute_input": "2022-08-11T06:21:47.794520Z",
     "iopub.status.busy": "2022-08-11T06:21:47.793697Z",
     "iopub.status.idle": "2022-08-11T06:21:48.279577Z",
     "shell.execute_reply": "2022-08-11T06:21:48.278845Z",
     "shell.execute_reply.started": "2022-08-11T06:21:47.794490Z"
    },
    "scrolled": true,
    "tags": []
   },
   "outputs": [],
   "source": [
    "# 导入训练数据\n",
    "df_train = pd.read_csv(\"train.csv\")\n",
    "x = np.asarray(df_train.iloc[:,2:]).astype(np.float32)\n",
    "y = np.array(df_train.iloc[:,1]).astype(np.int8)\n",
    "# 导入测试数据\n",
    "df_test = pd.read_csv(\"test.csv\")\n",
    "x_pred = np.array(df_test.iloc[:,1:])\n",
    "# 对特征进行归一化\n",
    "from sklearn.preprocessing import StandardScaler  \n",
    "scaler = StandardScaler()  \n",
    "scaler.fit(x)  \n",
    "x = scaler.transform(x)\n",
    "x_pred = scaler.transform(x_pred)\n",
    "# 将训练数据集和测试数据集按照8:2的比例分开\n",
    "ratio = 0.8\n",
    "offset = int(x.shape[0] * ratio)\n",
    "x_train = x[:offset]\n",
    "y_train = y[:offset]\n",
    "x_test = x[offset:]\n",
    "y_test = y[offset:]"
   ]
  },
  {
   "cell_type": "code",
   "execution_count": 4,
   "metadata": {
    "execution": {
     "iopub.execute_input": "2022-08-11T06:15:13.102588Z",
     "iopub.status.busy": "2022-08-11T06:15:13.101823Z",
     "iopub.status.idle": "2022-08-11T06:15:14.090211Z",
     "shell.execute_reply": "2022-08-11T06:15:14.089233Z",
     "shell.execute_reply.started": "2022-08-11T06:15:13.102560Z"
    },
    "scrolled": true,
    "tags": []
   },
   "outputs": [],
   "source": [
    "import os\n",
    "import numpy as np\n",
    "from paddle.io import Dataset\n",
    "\n",
    "class MyDataset(Dataset):\n",
    "    \"\"\"\n",
    "    步骤一：继承 paddle.io.Dataset 类\n",
    "    \"\"\"\n",
    "    def __init__(self, x, y):\n",
    "        \"\"\"\n",
    "        步骤二：实现 __init__ 函数，初始化数据集，将样本和标签映射到列表中\n",
    "        \"\"\"\n",
    "        super(MyDataset, self).__init__()\n",
    "        self.data_list = []\n",
    "        for i,j in zip(x,y):\n",
    "            self.data_list.append([i,j])\n",
    "\n",
    "    def __getitem__(self, index):\n",
    "        \"\"\"\n",
    "        步骤三：实现 __getitem__ 函数，定义指定 index 时如何获取数据，并返回单条数据（样本数据、对应的标签）\n",
    "        \"\"\"\n",
    "        feature = self.data_list[index][0]\n",
    "        label = self.data_list[index][1]\n",
    "        # 返回图像和对应标签\n",
    "        return feature, label\n",
    "\n",
    "    def __len__(self):\n",
    "        \"\"\"\n",
    "        步骤四：实现 __len__ 函数，返回数据集的样本总数\n",
    "        \"\"\"\n",
    "        return len(self.data_list)\n",
    "\n",
    "train_dataset = MyDataset(x_train,y_train)"
   ]
  },
  {
   "cell_type": "code",
   "execution_count": 5,
   "metadata": {
    "scrolled": true,
    "tags": []
   },
   "outputs": [
    {
     "ename": "ValueError",
     "evalue": "The device should not be <re.Match object; span=(0, 5), match='gpu:0'>, since PaddlePaddle is not compiled with CUDA",
     "output_type": "error",
     "traceback": [
      "\u001b[1;31m---------------------------------------------------------------------------\u001b[0m",
      "\u001b[1;31mValueError\u001b[0m                                Traceback (most recent call last)",
      "\u001b[1;32md:\\项目\\让我们荡起飞桨\\飞桨_英雄联盟\\main.ipynb Cell 4\u001b[0m in \u001b[0;36m<cell line: 10>\u001b[1;34m()\u001b[0m\n\u001b[0;32m      <a href='vscode-notebook-cell:/d%3A/%E9%A1%B9%E7%9B%AE/%E8%AE%A9%E6%88%91%E4%BB%AC%E8%8D%A1%E8%B5%B7%E9%A3%9E%E6%A1%A8/%E9%A3%9E%E6%A1%A8_%E8%8B%B1%E9%9B%84%E8%81%94%E7%9B%9F/main.ipynb#W3sZmlsZQ%3D%3D?line=2'>3</a>\u001b[0m \u001b[39mfrom\u001b[39;00m \u001b[39mpaddle\u001b[39;00m \u001b[39mimport\u001b[39;00m nn\n\u001b[0;32m      <a href='vscode-notebook-cell:/d%3A/%E9%A1%B9%E7%9B%AE/%E8%AE%A9%E6%88%91%E4%BB%AC%E8%8D%A1%E8%B5%B7%E9%A3%9E%E6%A1%A8/%E9%A3%9E%E6%A1%A8_%E8%8B%B1%E9%9B%84%E8%81%94%E7%9B%9F/main.ipynb#W3sZmlsZQ%3D%3D?line=3'>4</a>\u001b[0m lenet_Sequential \u001b[39m=\u001b[39m nn\u001b[39m.\u001b[39mSequential(\n\u001b[0;32m      <a href='vscode-notebook-cell:/d%3A/%E9%A1%B9%E7%9B%AE/%E8%AE%A9%E6%88%91%E4%BB%AC%E8%8D%A1%E8%B5%B7%E9%A3%9E%E6%A1%A8/%E9%A3%9E%E6%A1%A8_%E8%8B%B1%E9%9B%84%E8%81%94%E7%9B%9F/main.ipynb#W3sZmlsZQ%3D%3D?line=4'>5</a>\u001b[0m     nn\u001b[39m.\u001b[39mLinear(n_input, \u001b[39m1\u001b[39m,),\n\u001b[0;32m      <a href='vscode-notebook-cell:/d%3A/%E9%A1%B9%E7%9B%AE/%E8%AE%A9%E6%88%91%E4%BB%AC%E8%8D%A1%E8%B5%B7%E9%A3%9E%E6%A1%A8/%E9%A3%9E%E6%A1%A8_%E8%8B%B1%E9%9B%84%E8%81%94%E7%9B%9F/main.ipynb#W3sZmlsZQ%3D%3D?line=5'>6</a>\u001b[0m     nn\u001b[39m.\u001b[39mTanh(),\n\u001b[0;32m      <a href='vscode-notebook-cell:/d%3A/%E9%A1%B9%E7%9B%AE/%E8%AE%A9%E6%88%91%E4%BB%AC%E8%8D%A1%E8%B5%B7%E9%A3%9E%E6%A1%A8/%E9%A3%9E%E6%A1%A8_%E8%8B%B1%E9%9B%84%E8%81%94%E7%9B%9F/main.ipynb#W3sZmlsZQ%3D%3D?line=6'>7</a>\u001b[0m     nn\u001b[39m.\u001b[39mLinear(\u001b[39m1\u001b[39m, \u001b[39m20\u001b[39m),\n\u001b[0;32m      <a href='vscode-notebook-cell:/d%3A/%E9%A1%B9%E7%9B%AE/%E8%AE%A9%E6%88%91%E4%BB%AC%E8%8D%A1%E8%B5%B7%E9%A3%9E%E6%A1%A8/%E9%A3%9E%E6%A1%A8_%E8%8B%B1%E9%9B%84%E8%81%94%E7%9B%9F/main.ipynb#W3sZmlsZQ%3D%3D?line=7'>8</a>\u001b[0m     nn\u001b[39m.\u001b[39mTanh(),\n\u001b[0;32m      <a href='vscode-notebook-cell:/d%3A/%E9%A1%B9%E7%9B%AE/%E8%AE%A9%E6%88%91%E4%BB%AC%E8%8D%A1%E8%B5%B7%E9%A3%9E%E6%A1%A8/%E9%A3%9E%E6%A1%A8_%E8%8B%B1%E9%9B%84%E8%81%94%E7%9B%9F/main.ipynb#W3sZmlsZQ%3D%3D?line=8'>9</a>\u001b[0m )\n\u001b[1;32m---> <a href='vscode-notebook-cell:/d%3A/%E9%A1%B9%E7%9B%AE/%E8%AE%A9%E6%88%91%E4%BB%AC%E8%8D%A1%E8%B5%B7%E9%A3%9E%E6%A1%A8/%E9%A3%9E%E6%A1%A8_%E8%8B%B1%E9%9B%84%E8%81%94%E7%9B%9F/main.ipynb#W3sZmlsZQ%3D%3D?line=9'>10</a>\u001b[0m paddle\u001b[39m.\u001b[39;49mdevice\u001b[39m.\u001b[39;49mset_device(\u001b[39m'\u001b[39;49m\u001b[39mgpu:0\u001b[39;49m\u001b[39m'\u001b[39;49m)\n\u001b[0;32m     <a href='vscode-notebook-cell:/d%3A/%E9%A1%B9%E7%9B%AE/%E8%AE%A9%E6%88%91%E4%BB%AC%E8%8D%A1%E8%B5%B7%E9%A3%9E%E6%A1%A8/%E9%A3%9E%E6%A1%A8_%E8%8B%B1%E9%9B%84%E8%81%94%E7%9B%9F/main.ipynb#W3sZmlsZQ%3D%3D?line=10'>11</a>\u001b[0m \u001b[39m# 封装模型为一个 model 实例，便于进行后续的训练、评估和推理\u001b[39;00m\n\u001b[0;32m     <a href='vscode-notebook-cell:/d%3A/%E9%A1%B9%E7%9B%AE/%E8%AE%A9%E6%88%91%E4%BB%AC%E8%8D%A1%E8%B5%B7%E9%A3%9E%E6%A1%A8/%E9%A3%9E%E6%A1%A8_%E8%8B%B1%E9%9B%84%E8%81%94%E7%9B%9F/main.ipynb#W3sZmlsZQ%3D%3D?line=11'>12</a>\u001b[0m feature \u001b[39m=\u001b[39m paddle\u001b[39m.\u001b[39mstatic\u001b[39m.\u001b[39mInputSpec([\u001b[39m30\u001b[39m], dtype\u001b[39m=\u001b[39m\u001b[39m'\u001b[39m\u001b[39mfloat32\u001b[39m\u001b[39m'\u001b[39m, name\u001b[39m=\u001b[39m\u001b[39m'\u001b[39m\u001b[39mfeature\u001b[39m\u001b[39m'\u001b[39m)\n",
      "File \u001b[1;32mc:\\Users\\Administer\\AppData\\Local\\Programs\\Python\\Python39\\lib\\site-packages\\paddle\\device\\__init__.py:313\u001b[0m, in \u001b[0;36mset_device\u001b[1;34m(device)\u001b[0m\n\u001b[0;32m    291\u001b[0m \u001b[39mdef\u001b[39;00m \u001b[39mset_device\u001b[39m(device):\n\u001b[0;32m    292\u001b[0m     \u001b[39m\"\"\"\u001b[39;00m\n\u001b[0;32m    293\u001b[0m \u001b[39m    Paddle supports running calculations on various types of devices, including CPU, GPU, XPU, NPU, MLU and IPU.\u001b[39;00m\n\u001b[0;32m    294\u001b[0m \u001b[39m    They are represented by string identifiers. This function can specify the global device\u001b[39;00m\n\u001b[1;32m   (...)\u001b[0m\n\u001b[0;32m    311\u001b[0m \u001b[39m        data = paddle.stack([x1,x2], axis=1)\u001b[39;00m\n\u001b[0;32m    312\u001b[0m \u001b[39m    \"\"\"\u001b[39;00m\n\u001b[1;32m--> 313\u001b[0m     place \u001b[39m=\u001b[39m _convert_to_place(device)\n\u001b[0;32m    314\u001b[0m     framework\u001b[39m.\u001b[39m_set_expected_place(place)\n\u001b[0;32m    315\u001b[0m     \u001b[39mreturn\u001b[39;00m place\n",
      "File \u001b[1;32mc:\\Users\\Administer\\AppData\\Local\\Programs\\Python\\Python39\\lib\\site-packages\\paddle\\device\\__init__.py:254\u001b[0m, in \u001b[0;36m_convert_to_place\u001b[1;34m(device)\u001b[0m\n\u001b[0;32m    252\u001b[0m \u001b[39mif\u001b[39;00m avaliable_gpu_device:\n\u001b[0;32m    253\u001b[0m     \u001b[39mif\u001b[39;00m \u001b[39mnot\u001b[39;00m core\u001b[39m.\u001b[39mis_compiled_with_cuda():\n\u001b[1;32m--> 254\u001b[0m         \u001b[39mraise\u001b[39;00m \u001b[39mValueError\u001b[39;00m(\n\u001b[0;32m    255\u001b[0m             \u001b[39m\"\u001b[39m\u001b[39mThe device should not be \u001b[39m\u001b[39m{}\u001b[39;00m\u001b[39m, since PaddlePaddle is \u001b[39m\u001b[39m\"\u001b[39m\n\u001b[0;32m    256\u001b[0m             \u001b[39m\"\u001b[39m\u001b[39mnot compiled with CUDA\u001b[39m\u001b[39m\"\u001b[39m\u001b[39m.\u001b[39mformat(avaliable_gpu_device))\n\u001b[0;32m    257\u001b[0m     device_info_list \u001b[39m=\u001b[39m device\u001b[39m.\u001b[39msplit(\u001b[39m'\u001b[39m\u001b[39m:\u001b[39m\u001b[39m'\u001b[39m, \u001b[39m1\u001b[39m)\n\u001b[0;32m    258\u001b[0m     device_id \u001b[39m=\u001b[39m device_info_list[\u001b[39m1\u001b[39m]\n",
      "\u001b[1;31mValueError\u001b[0m: The device should not be <re.Match object; span=(0, 5), match='gpu:0'>, since PaddlePaddle is not compiled with CUDA"
     ]
    }
   ],
   "source": [
    "n_input = len(x[0])\n",
    "# MLP模型组网搭建\n",
    "from paddle import nn\n",
    "lenet_Sequential = nn.Sequential(\n",
    "    nn.Linear(n_input, 1,),\n",
    "    nn.Tanh(),\n",
    "    nn.Linear(1, 20),\n",
    "    nn.Tanh(),\n",
    ")\n",
    "# paddle.device.set_device('gpu:0')  # 本地显卡MX150没装CUDA\n",
    "# 封装模型为一个 model 实例，便于进行后续的训练、评估和推理\n",
    "feature = paddle.static.InputSpec([30], dtype='float32', name='feature')\n",
    "label = paddle.static.InputSpec([1], dtype='int8', name='label')\n",
    "model = paddle.Model(lenet_Sequential(),inputs=feature,labels=label)\n",
    "# 为模型训练做准备，设置优化器及其学习率，并将网络的参数传入优化器，设置损失函数和精度计算方式\n",
    "model.prepare(optimizer=paddle.optimizer.Adam(learning_rate=0.001, parameters=model.parameters()), \n",
    "              loss=paddle.nn.L1Loss(), \n",
    "              metrics=paddle.metric.Accuracy())\n",
    "# 启动模型训练，指定训练数据集，设置训练轮次，设置每次数据集计算的批次大小，设置日志格式\n",
    "model.fit(train_dataset, \n",
    "          epochs=1, \n",
    "          batch_size=1,\n",
    "          verbose=2)"
   ]
  },
  {
   "cell_type": "code",
   "execution_count": 101,
   "metadata": {
    "execution": {
     "iopub.execute_input": "2022-08-11T06:13:58.661994Z",
     "iopub.status.busy": "2022-08-11T06:13:58.661280Z",
     "iopub.status.idle": "2022-08-11T06:13:58.667996Z",
     "shell.execute_reply": "2022-08-11T06:13:58.667375Z",
     "shell.execute_reply.started": "2022-08-11T06:13:58.661965Z"
    },
    "scrolled": true,
    "tags": []
   },
   "outputs": [
    {
     "name": "stdout",
     "output_type": "stream",
     "text": [
      "---------------------------------------------------------------------------\n",
      " Layer (type)       Input Shape          Output Shape         Param #    \n",
      "===========================================================================\n",
      "   Linear-84           [[30]]                [1]                31       \n",
      "    Tanh-36            [[1]]                 [1]                 0       \n",
      "   Linear-85           [[1]]                 [20]               40       \n",
      "===========================================================================\n",
      "Total params: 71\n",
      "Trainable params: 71\n",
      "Non-trainable params: 0\n",
      "---------------------------------------------------------------------------\n",
      "Input size (MB): 0.00\n",
      "Forward/backward pass size (MB): 0.00\n",
      "Params size (MB): 0.00\n",
      "Estimated Total Size (MB): 0.00\n",
      "---------------------------------------------------------------------------\n",
      "\n"
     ]
    },
    {
     "data": {
      "text/plain": [
       "{'total_params': 71, 'trainable_params': 71}"
      ]
     },
     "execution_count": 101,
     "metadata": {},
     "output_type": "execute_result"
    }
   ],
   "source": [
    "model.summary((30))"
   ]
  },
  {
   "cell_type": "code",
   "execution_count": null,
   "metadata": {
    "scrolled": true
   },
   "outputs": [],
   "source": []
  },
  {
   "cell_type": "code",
   "execution_count": 19,
   "metadata": {
    "execution": {
     "iopub.execute_input": "2022-08-01T09:14:27.803135Z",
     "iopub.status.busy": "2022-08-01T09:14:27.801768Z",
     "iopub.status.idle": "2022-08-01T09:15:31.589010Z",
     "shell.execute_reply": "2022-08-01T09:15:31.587871Z",
     "shell.execute_reply.started": "2022-08-01T09:14:27.803093Z"
    },
    "scrolled": true,
    "tags": []
   },
   "outputs": [
    {
     "name": "stdout",
     "output_type": "stream",
     "text": [
      "0.8472\n"
     ]
    }
   ],
   "source": []
  }
 ],
 "metadata": {
  "kernelspec": {
   "display_name": "Python 3.9.1 64-bit",
   "language": "python",
   "name": "python3"
  },
  "language_info": {
   "codemirror_mode": {
    "name": "ipython",
    "version": 3
   },
   "file_extension": ".py",
   "mimetype": "text/x-python",
   "name": "python",
   "nbconvert_exporter": "python",
   "pygments_lexer": "ipython3",
   "version": "3.9.1"
  },
  "vscode": {
   "interpreter": {
    "hash": "538aa17ce8a0584118ce85ff12bec826ccfc3555eae6360211bc5883b796f561"
   }
  }
 },
 "nbformat": 4,
 "nbformat_minor": 4
}
