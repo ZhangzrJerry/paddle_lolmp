{
 "cells": [
  {
   "cell_type": "code",
   "execution_count": 10,
   "metadata": {
    "execution": {
     "iopub.execute_input": "2022-08-11T04:49:26.662348Z",
     "iopub.status.busy": "2022-08-11T04:49:26.661587Z",
     "iopub.status.idle": "2022-08-11T04:49:26.666478Z",
     "shell.execute_reply": "2022-08-11T04:49:26.665759Z",
     "shell.execute_reply.started": "2022-08-11T04:49:26.662314Z"
    },
    "scrolled": true,
    "tags": []
   },
   "outputs": [],
   "source": [
    "import pandas as pd\n",
    "import numpy as np\n",
    "import paddle\n",
    "def hanming(a,b):\n",
    "    res = 0\n",
    "    for i,j in zip(a,b):\n",
    "        res += (0 if i==j else 1)\n",
    "    return res"
   ]
  },
  {
   "cell_type": "code",
   "execution_count": 106,
   "metadata": {
    "execution": {
     "iopub.execute_input": "2022-08-11T06:21:47.794520Z",
     "iopub.status.busy": "2022-08-11T06:21:47.793697Z",
     "iopub.status.idle": "2022-08-11T06:21:48.279577Z",
     "shell.execute_reply": "2022-08-11T06:21:48.278845Z",
     "shell.execute_reply.started": "2022-08-11T06:21:47.794490Z"
    },
    "scrolled": true,
    "tags": []
   },
   "outputs": [],
   "source": [
    "# 导入训练数据\n",
    "df_train = pd.read_csv(\"train.csv\")\n",
    "x = np.asarray(df_train.iloc[:,2:]).astype(np.float32)\n",
    "y = np.array(df_train.iloc[:,1]).astype(np.int8)\n",
    "# 导入测试数据\n",
    "df_test = pd.read_csv(\"test.csv\")\n",
    "x_pred = np.array(df_test.iloc[:,1:])\n",
    "# 对特征进行归一化\n",
    "from sklearn.preprocessing import StandardScaler  \n",
    "scaler = StandardScaler()  \n",
    "scaler.fit(x)  \n",
    "x = scaler.transform(x)\n",
    "x_pred = scaler.transform(x_pred)\n",
    "# 将训练数据集和测试数据集按照8:2的比例分开\n",
    "ratio = 0.8\n",
    "offset = int(x.shape[0] * ratio)\n",
    "x_train = x[:offset]\n",
    "y_train = y[:offset]\n",
    "x_test = x[offset:]\n",
    "y_test = y[offset:]"
   ]
  },
  {
   "cell_type": "code",
   "execution_count": 105,
   "metadata": {
    "execution": {
     "iopub.execute_input": "2022-08-11T06:15:13.102588Z",
     "iopub.status.busy": "2022-08-11T06:15:13.101823Z",
     "iopub.status.idle": "2022-08-11T06:15:14.090211Z",
     "shell.execute_reply": "2022-08-11T06:15:14.089233Z",
     "shell.execute_reply.started": "2022-08-11T06:15:13.102560Z"
    },
    "scrolled": true,
    "tags": []
   },
   "outputs": [],
   "source": [
    "import os\n",
    "import cv2\n",
    "import numpy as np\n",
    "from paddle.io import Dataset\n",
    "\n",
    "class MyDataset(Dataset):\n",
    "    \"\"\"\n",
    "    步骤一：继承 paddle.io.Dataset 类\n",
    "    \"\"\"\n",
    "    def __init__(self, x, y):\n",
    "        \"\"\"\n",
    "        步骤二：实现 __init__ 函数，初始化数据集，将样本和标签映射到列表中\n",
    "        \"\"\"\n",
    "        super(MyDataset, self).__init__()\n",
    "        self.data_list = []\n",
    "        for i,j in zip(x,y):\n",
    "            self.data_list.append([i,j])\n",
    "\n",
    "    def __getitem__(self, index):\n",
    "        \"\"\"\n",
    "        步骤三：实现 __getitem__ 函数，定义指定 index 时如何获取数据，并返回单条数据（样本数据、对应的标签）\n",
    "        \"\"\"\n",
    "        feature = self.data_list[index][0]\n",
    "        label = self.data_list[index][1]\n",
    "        # 返回图像和对应标签\n",
    "        return feature, label\n",
    "\n",
    "    def __len__(self):\n",
    "        \"\"\"\n",
    "        步骤四：实现 __len__ 函数，返回数据集的样本总数\n",
    "        \"\"\"\n",
    "        return len(self.data_list)\n",
    "\n",
    "train_dataset = MyDataset(x_train,y_train)"
   ]
  },
  {
   "cell_type": "code",
   "execution_count": null,
   "metadata": {
    "scrolled": true,
    "tags": []
   },
   "outputs": [],
   "source": [
    "n_input = len(x[0])\r\n",
    "# MLP模型组网搭建\r\n",
    "from paddle import nn\r\n",
    "lenet_Sequential = nn.Sequential(\r\n",
    "    nn.Linear(n_input, 1,),\r\n",
    "    nn.Tanh(),\r\n",
    "    nn.Linear(1, 20),\r\n",
    "    nn.Tanh(),\r\n",
    ")\r\n",
    "paddle.device.set_device('gpu:0')\r\n",
    "# 封装模型为一个 model 实例，便于进行后续的训练、评估和推理\r\n",
    "feature = paddle.static.InputSpec([30], dtype='float32', name='feature')\r\n",
    "label = paddle.static.InputSpec([1], dtype='int8', name='label')\r\n",
    "model = paddle.Model(lenet_Sequential(),inputs=feature,labels=label)\r\n",
    "# 为模型训练做准备，设置优化器及其学习率，并将网络的参数传入优化器，设置损失函数和精度计算方式\r\n",
    "model.prepare(optimizer=paddle.optimizer.Adam(learning_rate=0.001, parameters=model.parameters()), \r\n",
    "              loss=paddle.nn.L1Loss(), \r\n",
    "              metrics=paddle.metric.Accuracy())\r\n",
    "# 启动模型训练，指定训练数据集，设置训练轮次，设置每次数据集计算的批次大小，设置日志格式\r\n",
    "model.fit(train_dataset, \r\n",
    "          epochs=1, \r\n",
    "          batch_size=1,\r\n",
    "          verbose=2)"
   ]
  },
  {
   "cell_type": "code",
   "execution_count": 101,
   "metadata": {
    "execution": {
     "iopub.execute_input": "2022-08-11T06:13:58.661994Z",
     "iopub.status.busy": "2022-08-11T06:13:58.661280Z",
     "iopub.status.idle": "2022-08-11T06:13:58.667996Z",
     "shell.execute_reply": "2022-08-11T06:13:58.667375Z",
     "shell.execute_reply.started": "2022-08-11T06:13:58.661965Z"
    },
    "scrolled": true,
    "tags": []
   },
   "outputs": [
    {
     "name": "stdout",
     "output_type": "stream",
     "text": [
      "---------------------------------------------------------------------------\n",
      " Layer (type)       Input Shape          Output Shape         Param #    \n",
      "===========================================================================\n",
      "   Linear-84           [[30]]                [1]                31       \n",
      "    Tanh-36            [[1]]                 [1]                 0       \n",
      "   Linear-85           [[1]]                 [20]               40       \n",
      "===========================================================================\n",
      "Total params: 71\n",
      "Trainable params: 71\n",
      "Non-trainable params: 0\n",
      "---------------------------------------------------------------------------\n",
      "Input size (MB): 0.00\n",
      "Forward/backward pass size (MB): 0.00\n",
      "Params size (MB): 0.00\n",
      "Estimated Total Size (MB): 0.00\n",
      "---------------------------------------------------------------------------\n",
      "\n"
     ]
    },
    {
     "data": {
      "text/plain": [
       "{'total_params': 71, 'trainable_params': 71}"
      ]
     },
     "execution_count": 101,
     "metadata": {},
     "output_type": "execute_result"
    }
   ],
   "source": [
    "model.summary((30))"
   ]
  },
  {
   "cell_type": "code",
   "execution_count": null,
   "metadata": {
    "scrolled": true
   },
   "outputs": [],
   "source": []
  },
  {
   "cell_type": "code",
   "execution_count": 19,
   "metadata": {
    "execution": {
     "iopub.execute_input": "2022-08-01T09:14:27.803135Z",
     "iopub.status.busy": "2022-08-01T09:14:27.801768Z",
     "iopub.status.idle": "2022-08-01T09:15:31.589010Z",
     "shell.execute_reply": "2022-08-01T09:15:31.587871Z",
     "shell.execute_reply.started": "2022-08-01T09:14:27.803093Z"
    },
    "scrolled": true,
    "tags": []
   },
   "outputs": [
    {
     "name": "stdout",
     "output_type": "stream",
     "text": [
      "0.8472\n"
     ]
    }
   ],
   "source": []
  }
 ],
 "metadata": {
  "kernelspec": {
   "display_name": "Python 3",
   "language": "python",
   "name": "py35-paddle1.2.0"
  },
  "language_info": {
   "codemirror_mode": {
    "name": "ipython",
    "version": 3
   },
   "file_extension": ".py",
   "mimetype": "text/x-python",
   "name": "python",
   "nbconvert_exporter": "python",
   "pygments_lexer": "ipython3",
   "version": "3.7.4"
  }
 },
 "nbformat": 4,
 "nbformat_minor": 4
}
